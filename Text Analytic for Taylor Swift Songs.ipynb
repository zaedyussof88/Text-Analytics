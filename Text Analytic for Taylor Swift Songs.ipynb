{
 "cells": [
  {
   "cell_type": "markdown",
   "metadata": {},
   "source": [
    "# Text Analytic for Taylor Swift Songs\n",
    "\n",
    "### Try some of these resources for extra help as you work:\n",
    "\n",
    "* On October 21, 2022 at midnight, Taylor Swift released her new album, Midnights. We wanted to know if she had dropped any hints about it before it went live, so we analyzed all of her lyrics. In this project, you will explore her references to ‘midnight’ leading up to this point, then you’ll expand your search to track her references to day, night, and time in general.\n",
    "\n",
    "* Then you will use sentiment analysis to study her tone and vibe over the course of her career. Then you’ll put it all together to determine if she writes more favorably about day or night. Throughout the whole project, you’ll get to practice your nlp and text analysis skills on a real corpus.\n",
    "\n",
    "\n",
    "[The original dataset was curated by Jan Llenzl Dagohoy and published on Kaggle](https://www.kaggle.com/datasets/thespacefreak/taylor-swift-song-lyrics-all-albums)\n"
   ]
  },
  {
   "cell_type": "code",
   "execution_count": 1,
   "metadata": {},
   "outputs": [],
   "source": [
    "%matplotlib inline\n",
    "\n",
    "import pandas as pd\n",
    "import string\n",
    "import seaborn as sns\n",
    "import matplotlib.pyplot as plt\n",
    "import collections\n",
    "import nltk\n",
    "from nltk.tokenize import word_tokenize\n",
    "from nltk.sentiment import SentimentIntensityAnalyzer\n"
   ]
  },
  {
   "cell_type": "markdown",
   "metadata": {},
   "source": [
    "# 1. Load the dataset\n",
    "\n",
    "After running the first cell to load all necessary libraries, we need to load our dataset. \n",
    "* Using pandas, load the dataset taylorR2.xlsx and save it as song. "
   ]
  },
  {
   "cell_type": "code",
   "execution_count": 2,
   "metadata": {},
   "outputs": [],
   "source": [
    "# load dataset\n",
    "song = pd.read_excel(\"TaylorR2.xlsx\")"
   ]
  },
  {
   "cell_type": "code",
   "execution_count": 3,
   "metadata": {},
   "outputs": [
    {
     "data": {
      "text/html": [
       "<div>\n",
       "<style scoped>\n",
       "    .dataframe tbody tr th:only-of-type {\n",
       "        vertical-align: middle;\n",
       "    }\n",
       "\n",
       "    .dataframe tbody tr th {\n",
       "        vertical-align: top;\n",
       "    }\n",
       "\n",
       "    .dataframe thead th {\n",
       "        text-align: right;\n",
       "    }\n",
       "</style>\n",
       "<table border=\"1\" class=\"dataframe\">\n",
       "  <thead>\n",
       "    <tr style=\"text-align: right;\">\n",
       "      <th></th>\n",
       "      <th>album_name</th>\n",
       "      <th>track_title</th>\n",
       "      <th>track_n</th>\n",
       "      <th>lyric</th>\n",
       "      <th>line</th>\n",
       "    </tr>\n",
       "  </thead>\n",
       "  <tbody>\n",
       "    <tr>\n",
       "      <th>0</th>\n",
       "      <td>Fearless (Taylor’s Version)</td>\n",
       "      <td>Fearless (Taylor’s Version)</td>\n",
       "      <td>1</td>\n",
       "      <td>There's something 'bout the way</td>\n",
       "      <td>1</td>\n",
       "    </tr>\n",
       "    <tr>\n",
       "      <th>1</th>\n",
       "      <td>Fearless (Taylor’s Version)</td>\n",
       "      <td>Fearless (Taylor’s Version)</td>\n",
       "      <td>1</td>\n",
       "      <td>The street looks when it's just rained</td>\n",
       "      <td>2</td>\n",
       "    </tr>\n",
       "    <tr>\n",
       "      <th>2</th>\n",
       "      <td>Fearless (Taylor’s Version)</td>\n",
       "      <td>Fearless (Taylor’s Version)</td>\n",
       "      <td>1</td>\n",
       "      <td>There's a glow off the pavement, you walk me t...</td>\n",
       "      <td>3</td>\n",
       "    </tr>\n",
       "    <tr>\n",
       "      <th>3</th>\n",
       "      <td>Fearless (Taylor’s Version)</td>\n",
       "      <td>Fearless (Taylor’s Version)</td>\n",
       "      <td>1</td>\n",
       "      <td>And you know I wanna ask you to dance right there</td>\n",
       "      <td>4</td>\n",
       "    </tr>\n",
       "    <tr>\n",
       "      <th>4</th>\n",
       "      <td>Fearless (Taylor’s Version)</td>\n",
       "      <td>Fearless (Taylor’s Version)</td>\n",
       "      <td>1</td>\n",
       "      <td>In the middle of the parking lot, yeah</td>\n",
       "      <td>5</td>\n",
       "    </tr>\n",
       "  </tbody>\n",
       "</table>\n",
       "</div>"
      ],
      "text/plain": [
       "                    album_name                  track_title  track_n  \\\n",
       "0  Fearless (Taylor’s Version)  Fearless (Taylor’s Version)        1   \n",
       "1  Fearless (Taylor’s Version)  Fearless (Taylor’s Version)        1   \n",
       "2  Fearless (Taylor’s Version)  Fearless (Taylor’s Version)        1   \n",
       "3  Fearless (Taylor’s Version)  Fearless (Taylor’s Version)        1   \n",
       "4  Fearless (Taylor’s Version)  Fearless (Taylor’s Version)        1   \n",
       "\n",
       "                                               lyric  line  \n",
       "0                    There's something 'bout the way     1  \n",
       "1             The street looks when it's just rained     2  \n",
       "2  There's a glow off the pavement, you walk me t...     3  \n",
       "3  And you know I wanna ask you to dance right there     4  \n",
       "4             In the middle of the parking lot, yeah     5  "
      ]
     },
     "execution_count": 3,
     "metadata": {},
     "output_type": "execute_result"
    }
   ],
   "source": [
    "song.head()"
   ]
  },
  {
   "cell_type": "code",
   "execution_count": 4,
   "metadata": {},
   "outputs": [
    {
     "name": "stdout",
     "output_type": "stream",
     "text": [
      "<class 'pandas.core.frame.DataFrame'>\n",
      "RangeIndex: 8358 entries, 0 to 8357\n",
      "Data columns (total 5 columns):\n",
      " #   Column       Non-Null Count  Dtype \n",
      "---  ------       --------------  ----- \n",
      " 0   album_name   8358 non-null   object\n",
      " 1   track_title  8358 non-null   object\n",
      " 2   track_n      8358 non-null   int64 \n",
      " 3   lyric        8358 non-null   object\n",
      " 4   line         8358 non-null   int64 \n",
      "dtypes: int64(2), object(3)\n",
      "memory usage: 326.6+ KB\n"
     ]
    }
   ],
   "source": [
    "#get info about the DataFrame\n",
    "song.info()"
   ]
  },
  {
   "cell_type": "code",
   "execution_count": 5,
   "metadata": {},
   "outputs": [
    {
     "data": {
      "text/html": [
       "<div>\n",
       "<style scoped>\n",
       "    .dataframe tbody tr th:only-of-type {\n",
       "        vertical-align: middle;\n",
       "    }\n",
       "\n",
       "    .dataframe tbody tr th {\n",
       "        vertical-align: top;\n",
       "    }\n",
       "\n",
       "    .dataframe thead th {\n",
       "        text-align: right;\n",
       "    }\n",
       "</style>\n",
       "<table border=\"1\" class=\"dataframe\">\n",
       "  <thead>\n",
       "    <tr style=\"text-align: right;\">\n",
       "      <th></th>\n",
       "      <th>album_name</th>\n",
       "      <th>track_title</th>\n",
       "      <th>track_n</th>\n",
       "      <th>lyric</th>\n",
       "      <th>line</th>\n",
       "    </tr>\n",
       "  </thead>\n",
       "  <tbody>\n",
       "    <tr>\n",
       "      <th>8353</th>\n",
       "      <td>Red (Deluxe Edition)</td>\n",
       "      <td>State of Grace (Acoustic Version)</td>\n",
       "      <td>22</td>\n",
       "      <td>And I’ll never be the same</td>\n",
       "      <td>32</td>\n",
       "    </tr>\n",
       "    <tr>\n",
       "      <th>8354</th>\n",
       "      <td>Red (Deluxe Edition)</td>\n",
       "      <td>State of Grace (Acoustic Version)</td>\n",
       "      <td>22</td>\n",
       "      <td>This is a state of grace</td>\n",
       "      <td>33</td>\n",
       "    </tr>\n",
       "    <tr>\n",
       "      <th>8355</th>\n",
       "      <td>Red (Deluxe Edition)</td>\n",
       "      <td>State of Grace (Acoustic Version)</td>\n",
       "      <td>22</td>\n",
       "      <td>This is a worthwhile fight</td>\n",
       "      <td>34</td>\n",
       "    </tr>\n",
       "    <tr>\n",
       "      <th>8356</th>\n",
       "      <td>Red (Deluxe Edition)</td>\n",
       "      <td>State of Grace (Acoustic Version)</td>\n",
       "      <td>22</td>\n",
       "      <td>Love is a ruthless game</td>\n",
       "      <td>35</td>\n",
       "    </tr>\n",
       "    <tr>\n",
       "      <th>8357</th>\n",
       "      <td>Red (Deluxe Edition)</td>\n",
       "      <td>State of Grace (Acoustic Version)</td>\n",
       "      <td>22</td>\n",
       "      <td>Unless you play it good and right</td>\n",
       "      <td>36</td>\n",
       "    </tr>\n",
       "  </tbody>\n",
       "</table>\n",
       "</div>"
      ],
      "text/plain": [
       "                album_name                        track_title  track_n  \\\n",
       "8353  Red (Deluxe Edition)  State of Grace (Acoustic Version)       22   \n",
       "8354  Red (Deluxe Edition)  State of Grace (Acoustic Version)       22   \n",
       "8355  Red (Deluxe Edition)  State of Grace (Acoustic Version)       22   \n",
       "8356  Red (Deluxe Edition)  State of Grace (Acoustic Version)       22   \n",
       "8357  Red (Deluxe Edition)  State of Grace (Acoustic Version)       22   \n",
       "\n",
       "                                  lyric  line  \n",
       "8353         And I’ll never be the same    32  \n",
       "8354           This is a state of grace    33  \n",
       "8355         This is a worthwhile fight    34  \n",
       "8356            Love is a ruthless game    35  \n",
       "8357  Unless you play it good and right    36  "
      ]
     },
     "execution_count": 5,
     "metadata": {},
     "output_type": "execute_result"
    }
   ],
   "source": [
    "song.tail()"
   ]
  },
  {
   "cell_type": "markdown",
   "metadata": {},
   "source": [
    "\n",
    "* The Taylor Swift lyrics dataset consists of comprehensive data on the lyrics from her albums 2020. There are no missing values. We can see the lyric details along the column axis and each lyric along the row axis. We can find the name  of each album, the track, and the line in which the lyric appears. We do not have year associated with this dataset. \n"
   ]
  },
  {
   "cell_type": "markdown",
   "metadata": {},
   "source": [
    "### 2. Add essential data\n",
    "\n",
    "We know that we want to explore her use of terms over years, but this dataset doesn't have years. We can either merge a dataset or manually create a new column. We have created a function for you that fills in the year based on the album name. \n",
    "\n",
    "* Apply this function to the `song` DataFrame to create a new column.\n",
    "* Inspect the first few rows of the DataFrame"
   ]
  },
  {
   "cell_type": "code",
   "execution_count": 6,
   "metadata": {},
   "outputs": [
    {
     "name": "stdout",
     "output_type": "stream",
     "text": [
      "['Fearless (Taylor’s Version)' 'Taylor Swift' 'Speak Now (Deluxe)'\n",
      " '1989 (Deluxe)' 'reputation' 'Lover' 'folklore (deluxe version)'\n",
      " 'evermore (deluxe version)' 'Red (Deluxe Edition)']\n"
     ]
    }
   ],
   "source": [
    "# get a list of all the albums in this collection\n",
    "print(song.album_name.unique())"
   ]
  },
  {
   "cell_type": "code",
   "execution_count": 7,
   "metadata": {},
   "outputs": [
    {
     "data": {
      "text/html": [
       "<div>\n",
       "<style scoped>\n",
       "    .dataframe tbody tr th:only-of-type {\n",
       "        vertical-align: middle;\n",
       "    }\n",
       "\n",
       "    .dataframe tbody tr th {\n",
       "        vertical-align: top;\n",
       "    }\n",
       "\n",
       "    .dataframe thead th {\n",
       "        text-align: right;\n",
       "    }\n",
       "</style>\n",
       "<table border=\"1\" class=\"dataframe\">\n",
       "  <thead>\n",
       "    <tr style=\"text-align: right;\">\n",
       "      <th></th>\n",
       "      <th>album_name</th>\n",
       "      <th>track_title</th>\n",
       "      <th>track_n</th>\n",
       "      <th>lyric</th>\n",
       "      <th>line</th>\n",
       "      <th>album_year</th>\n",
       "    </tr>\n",
       "  </thead>\n",
       "  <tbody>\n",
       "    <tr>\n",
       "      <th>0</th>\n",
       "      <td>Fearless (Taylor’s Version)</td>\n",
       "      <td>Fearless (Taylor’s Version)</td>\n",
       "      <td>1</td>\n",
       "      <td>There's something 'bout the way</td>\n",
       "      <td>1</td>\n",
       "      <td>2008</td>\n",
       "    </tr>\n",
       "    <tr>\n",
       "      <th>1</th>\n",
       "      <td>Fearless (Taylor’s Version)</td>\n",
       "      <td>Fearless (Taylor’s Version)</td>\n",
       "      <td>1</td>\n",
       "      <td>The street looks when it's just rained</td>\n",
       "      <td>2</td>\n",
       "      <td>2008</td>\n",
       "    </tr>\n",
       "    <tr>\n",
       "      <th>2</th>\n",
       "      <td>Fearless (Taylor’s Version)</td>\n",
       "      <td>Fearless (Taylor’s Version)</td>\n",
       "      <td>1</td>\n",
       "      <td>There's a glow off the pavement, you walk me t...</td>\n",
       "      <td>3</td>\n",
       "      <td>2008</td>\n",
       "    </tr>\n",
       "    <tr>\n",
       "      <th>3</th>\n",
       "      <td>Fearless (Taylor’s Version)</td>\n",
       "      <td>Fearless (Taylor’s Version)</td>\n",
       "      <td>1</td>\n",
       "      <td>And you know I wanna ask you to dance right there</td>\n",
       "      <td>4</td>\n",
       "      <td>2008</td>\n",
       "    </tr>\n",
       "    <tr>\n",
       "      <th>4</th>\n",
       "      <td>Fearless (Taylor’s Version)</td>\n",
       "      <td>Fearless (Taylor’s Version)</td>\n",
       "      <td>1</td>\n",
       "      <td>In the middle of the parking lot, yeah</td>\n",
       "      <td>5</td>\n",
       "      <td>2008</td>\n",
       "    </tr>\n",
       "  </tbody>\n",
       "</table>\n",
       "</div>"
      ],
      "text/plain": [
       "                    album_name                  track_title  track_n  \\\n",
       "0  Fearless (Taylor’s Version)  Fearless (Taylor’s Version)        1   \n",
       "1  Fearless (Taylor’s Version)  Fearless (Taylor’s Version)        1   \n",
       "2  Fearless (Taylor’s Version)  Fearless (Taylor’s Version)        1   \n",
       "3  Fearless (Taylor’s Version)  Fearless (Taylor’s Version)        1   \n",
       "4  Fearless (Taylor’s Version)  Fearless (Taylor’s Version)        1   \n",
       "\n",
       "                                               lyric  line album_year  \n",
       "0                    There's something 'bout the way     1       2008  \n",
       "1             The street looks when it's just rained     2       2008  \n",
       "2  There's a glow off the pavement, you walk me t...     3       2008  \n",
       "3  And you know I wanna ask you to dance right there     4       2008  \n",
       "4             In the middle of the parking lot, yeah     5       2008  "
      ]
     },
     "execution_count": 7,
     "metadata": {},
     "output_type": "execute_result"
    }
   ],
   "source": [
    "# this is a function to map the name of the album to the year it was released\n",
    "def album_release(row):  \n",
    "    if row['album_name'] == 'Taylor Swift':\n",
    "        return '2006'\n",
    "    elif row['album_name'] == 'Fearless (Taylor’s Version)':\n",
    "        return '2008'\n",
    "    elif row['album_name'] == 'Speak Now (Deluxe)':\n",
    "        return '2010'\n",
    "    elif row['album_name'] == 'Red (Deluxe Edition)':\n",
    "        return '2012'\n",
    "    elif row['album_name'] == '1989 (Deluxe)':\n",
    "        return '2014'\n",
    "    elif row['album_name'] == 'reputation':\n",
    "        return '2017'\n",
    "    elif row['album_name'] == 'Lover':\n",
    "        return '2019'\n",
    "    elif row['album_name'] == 'evermore (deluxe version)':\n",
    "        return '2020'\n",
    "    #ok, we know folklore was actually released in Dec 2020, but this will make our analysis easier\n",
    "    elif row['album_name'] == 'folklore (deluxe version)':\n",
    "        return '2021'\n",
    "    #this is slightly differently formatted because the album name is recorded two ways.\n",
    "    elif 'midnights' in row['album_name']:\n",
    "        return '2022'\n",
    "    \n",
    "    return 'No Date'\n",
    "\n",
    "\n",
    "# apply the function to the album\n",
    "song['album_year'] = song.apply(lambda row: album_release(row), axis=1)\n",
    "\n",
    "# inspect the first few rows of the DataFrame\n",
    "song.head()"
   ]
  },
  {
   "cell_type": "markdown",
   "metadata": {},
   "source": [
    "### 3. Clean the lyric text\n",
    "\n",
    "To accurately count keyword mentions, we need to make everything lowercase everything, remove punctuation, and exclude stop words. \n",
    "\n",
    "* Change everything to lower case and save the result in a new column called `clean_lyric_song`.\n",
    "* Remove punctuation and save the result to the existing `clean_lyric_song` column.\n",
    "* Run the code we provided to remove stopwords.\n",
    "* Check to be sure you have what you expect by viewing the first few rows."
   ]
  },
  {
   "cell_type": "code",
   "execution_count": 8,
   "metadata": {},
   "outputs": [],
   "source": [
    "#lowercase\n",
    "## YOUR CODE HERE ##\n",
    "song['clean_lyric_song'] = song['lyric'].str.lower()"
   ]
  },
  {
   "cell_type": "code",
   "execution_count": 9,
   "metadata": {},
   "outputs": [
    {
     "data": {
      "text/html": [
       "<div>\n",
       "<style scoped>\n",
       "    .dataframe tbody tr th:only-of-type {\n",
       "        vertical-align: middle;\n",
       "    }\n",
       "\n",
       "    .dataframe tbody tr th {\n",
       "        vertical-align: top;\n",
       "    }\n",
       "\n",
       "    .dataframe thead th {\n",
       "        text-align: right;\n",
       "    }\n",
       "</style>\n",
       "<table border=\"1\" class=\"dataframe\">\n",
       "  <thead>\n",
       "    <tr style=\"text-align: right;\">\n",
       "      <th></th>\n",
       "      <th>album_name</th>\n",
       "      <th>track_title</th>\n",
       "      <th>track_n</th>\n",
       "      <th>lyric</th>\n",
       "      <th>line</th>\n",
       "      <th>album_year</th>\n",
       "      <th>clean_lyric_song</th>\n",
       "    </tr>\n",
       "  </thead>\n",
       "  <tbody>\n",
       "    <tr>\n",
       "      <th>0</th>\n",
       "      <td>Fearless (Taylor’s Version)</td>\n",
       "      <td>Fearless (Taylor’s Version)</td>\n",
       "      <td>1</td>\n",
       "      <td>There's something 'bout the way</td>\n",
       "      <td>1</td>\n",
       "      <td>2008</td>\n",
       "      <td>theres something bout the way</td>\n",
       "    </tr>\n",
       "    <tr>\n",
       "      <th>1</th>\n",
       "      <td>Fearless (Taylor’s Version)</td>\n",
       "      <td>Fearless (Taylor’s Version)</td>\n",
       "      <td>1</td>\n",
       "      <td>The street looks when it's just rained</td>\n",
       "      <td>2</td>\n",
       "      <td>2008</td>\n",
       "      <td>the street looks when its just rained</td>\n",
       "    </tr>\n",
       "    <tr>\n",
       "      <th>2</th>\n",
       "      <td>Fearless (Taylor’s Version)</td>\n",
       "      <td>Fearless (Taylor’s Version)</td>\n",
       "      <td>1</td>\n",
       "      <td>There's a glow off the pavement, you walk me t...</td>\n",
       "      <td>3</td>\n",
       "      <td>2008</td>\n",
       "      <td>theres a glow off the pavement you walk me to ...</td>\n",
       "    </tr>\n",
       "    <tr>\n",
       "      <th>3</th>\n",
       "      <td>Fearless (Taylor’s Version)</td>\n",
       "      <td>Fearless (Taylor’s Version)</td>\n",
       "      <td>1</td>\n",
       "      <td>And you know I wanna ask you to dance right there</td>\n",
       "      <td>4</td>\n",
       "      <td>2008</td>\n",
       "      <td>and you know i wanna ask you to dance right there</td>\n",
       "    </tr>\n",
       "    <tr>\n",
       "      <th>4</th>\n",
       "      <td>Fearless (Taylor’s Version)</td>\n",
       "      <td>Fearless (Taylor’s Version)</td>\n",
       "      <td>1</td>\n",
       "      <td>In the middle of the parking lot, yeah</td>\n",
       "      <td>5</td>\n",
       "      <td>2008</td>\n",
       "      <td>in the middle of the parking lot yeah</td>\n",
       "    </tr>\n",
       "  </tbody>\n",
       "</table>\n",
       "</div>"
      ],
      "text/plain": [
       "                    album_name                  track_title  track_n  \\\n",
       "0  Fearless (Taylor’s Version)  Fearless (Taylor’s Version)        1   \n",
       "1  Fearless (Taylor’s Version)  Fearless (Taylor’s Version)        1   \n",
       "2  Fearless (Taylor’s Version)  Fearless (Taylor’s Version)        1   \n",
       "3  Fearless (Taylor’s Version)  Fearless (Taylor’s Version)        1   \n",
       "4  Fearless (Taylor’s Version)  Fearless (Taylor’s Version)        1   \n",
       "\n",
       "                                               lyric  line album_year  \\\n",
       "0                    There's something 'bout the way     1       2008   \n",
       "1             The street looks when it's just rained     2       2008   \n",
       "2  There's a glow off the pavement, you walk me t...     3       2008   \n",
       "3  And you know I wanna ask you to dance right there     4       2008   \n",
       "4             In the middle of the parking lot, yeah     5       2008   \n",
       "\n",
       "                                    clean_lyric_song  \n",
       "0                      theres something bout the way  \n",
       "1              the street looks when its just rained  \n",
       "2  theres a glow off the pavement you walk me to ...  \n",
       "3  and you know i wanna ask you to dance right there  \n",
       "4              in the middle of the parking lot yeah  "
      ]
     },
     "execution_count": 9,
     "metadata": {},
     "output_type": "execute_result"
    }
   ],
   "source": [
    "#remove punctuation\n",
    "#will replace any character in the string that is not a word character or whitespace with an empty string, \n",
    "#effectively removing non-alphanumeric and non-whitespace characters from the string.\n",
    "song['clean_lyric_song']= song['clean_lyric_song'].str.replace('[^\\w\\s]','',regex=True)\n",
    "song.head()"
   ]
  },
  {
   "cell_type": "code",
   "execution_count": 10,
   "metadata": {},
   "outputs": [],
   "source": [
    "#remove stopwords (see the next cell for illustration)\n",
    "#create a small list of English stop words, feel free to edit this list\n",
    "stop = ['the', 'a', 'this', 'that', 'to', 'is', 'am', 'was', 'were', 'be', 'being', 'been']"
   ]
  },
  {
   "cell_type": "code",
   "execution_count": 11,
   "metadata": {},
   "outputs": [
    {
     "data": {
      "text/html": [
       "<div>\n",
       "<style scoped>\n",
       "    .dataframe tbody tr th:only-of-type {\n",
       "        vertical-align: middle;\n",
       "    }\n",
       "\n",
       "    .dataframe tbody tr th {\n",
       "        vertical-align: top;\n",
       "    }\n",
       "\n",
       "    .dataframe thead th {\n",
       "        text-align: right;\n",
       "    }\n",
       "</style>\n",
       "<table border=\"1\" class=\"dataframe\">\n",
       "  <thead>\n",
       "    <tr style=\"text-align: right;\">\n",
       "      <th></th>\n",
       "      <th>album_name</th>\n",
       "      <th>track_title</th>\n",
       "      <th>track_n</th>\n",
       "      <th>lyric</th>\n",
       "      <th>line</th>\n",
       "      <th>album_year</th>\n",
       "      <th>clean_lyric_song</th>\n",
       "    </tr>\n",
       "  </thead>\n",
       "  <tbody>\n",
       "    <tr>\n",
       "      <th>0</th>\n",
       "      <td>Fearless (Taylor’s Version)</td>\n",
       "      <td>Fearless (Taylor’s Version)</td>\n",
       "      <td>1</td>\n",
       "      <td>There's something 'bout the way</td>\n",
       "      <td>1</td>\n",
       "      <td>2008</td>\n",
       "      <td>theres something bout way</td>\n",
       "    </tr>\n",
       "    <tr>\n",
       "      <th>1</th>\n",
       "      <td>Fearless (Taylor’s Version)</td>\n",
       "      <td>Fearless (Taylor’s Version)</td>\n",
       "      <td>1</td>\n",
       "      <td>The street looks when it's just rained</td>\n",
       "      <td>2</td>\n",
       "      <td>2008</td>\n",
       "      <td>street looks when its just rained</td>\n",
       "    </tr>\n",
       "    <tr>\n",
       "      <th>2</th>\n",
       "      <td>Fearless (Taylor’s Version)</td>\n",
       "      <td>Fearless (Taylor’s Version)</td>\n",
       "      <td>1</td>\n",
       "      <td>There's a glow off the pavement, you walk me t...</td>\n",
       "      <td>3</td>\n",
       "      <td>2008</td>\n",
       "      <td>theres glow off pavement you walk me car</td>\n",
       "    </tr>\n",
       "    <tr>\n",
       "      <th>3</th>\n",
       "      <td>Fearless (Taylor’s Version)</td>\n",
       "      <td>Fearless (Taylor’s Version)</td>\n",
       "      <td>1</td>\n",
       "      <td>And you know I wanna ask you to dance right there</td>\n",
       "      <td>4</td>\n",
       "      <td>2008</td>\n",
       "      <td>and you know i wanna ask you dance right there</td>\n",
       "    </tr>\n",
       "    <tr>\n",
       "      <th>4</th>\n",
       "      <td>Fearless (Taylor’s Version)</td>\n",
       "      <td>Fearless (Taylor’s Version)</td>\n",
       "      <td>1</td>\n",
       "      <td>In the middle of the parking lot, yeah</td>\n",
       "      <td>5</td>\n",
       "      <td>2008</td>\n",
       "      <td>in middle of parking lot yeah</td>\n",
       "    </tr>\n",
       "  </tbody>\n",
       "</table>\n",
       "</div>"
      ],
      "text/plain": [
       "                    album_name                  track_title  track_n  \\\n",
       "0  Fearless (Taylor’s Version)  Fearless (Taylor’s Version)        1   \n",
       "1  Fearless (Taylor’s Version)  Fearless (Taylor’s Version)        1   \n",
       "2  Fearless (Taylor’s Version)  Fearless (Taylor’s Version)        1   \n",
       "3  Fearless (Taylor’s Version)  Fearless (Taylor’s Version)        1   \n",
       "4  Fearless (Taylor’s Version)  Fearless (Taylor’s Version)        1   \n",
       "\n",
       "                                               lyric  line album_year  \\\n",
       "0                    There's something 'bout the way     1       2008   \n",
       "1             The street looks when it's just rained     2       2008   \n",
       "2  There's a glow off the pavement, you walk me t...     3       2008   \n",
       "3  And you know I wanna ask you to dance right there     4       2008   \n",
       "4             In the middle of the parking lot, yeah     5       2008   \n",
       "\n",
       "                                 clean_lyric_song  \n",
       "0                       theres something bout way  \n",
       "1               street looks when its just rained  \n",
       "2        theres glow off pavement you walk me car  \n",
       "3  and you know i wanna ask you dance right there  \n",
       "4                   in middle of parking lot yeah  "
      ]
     },
     "execution_count": 11,
     "metadata": {},
     "output_type": "execute_result"
    }
   ],
   "source": [
    "#there are three steps in one here - explained below\n",
    "#we make a list of words with `.split()`\n",
    "#then we remove all the words in our list\n",
    "#then we join the words back together into a string\n",
    "song['clean_lyric_song'] = song['clean_lyric_song'].apply(lambda x: ' '.join([word for word in x.split() if word not in (stop)]))\n",
    "song.head()"
   ]
  },
  {
   "cell_type": "code",
   "execution_count": 12,
   "metadata": {},
   "outputs": [
    {
     "name": "stdout",
     "output_type": "stream",
     "text": [
      "                    album_name                  track_title  track_n  \\\n",
      "0  Fearless (Taylor’s Version)  Fearless (Taylor’s Version)        1   \n",
      "1  Fearless (Taylor’s Version)  Fearless (Taylor’s Version)        1   \n",
      "2  Fearless (Taylor’s Version)  Fearless (Taylor’s Version)        1   \n",
      "3  Fearless (Taylor’s Version)  Fearless (Taylor’s Version)        1   \n",
      "4  Fearless (Taylor’s Version)  Fearless (Taylor’s Version)        1   \n",
      "\n",
      "                                               lyric  line album_year  \\\n",
      "0                    There's something 'bout the way     1       2008   \n",
      "1             The street looks when it's just rained     2       2008   \n",
      "2  There's a glow off the pavement, you walk me t...     3       2008   \n",
      "3  And you know I wanna ask you to dance right there     4       2008   \n",
      "4             In the middle of the parking lot, yeah     5       2008   \n",
      "\n",
      "                                 clean_lyric_song  \\\n",
      "0                       theres something bout way   \n",
      "1               street looks when its just rained   \n",
      "2        theres glow off pavement you walk me car   \n",
      "3  and you know i wanna ask you dance right there   \n",
      "4                   in middle of parking lot yeah   \n",
      "\n",
      "                               clean_lyric_list_song  \n",
      "0                     [theres, something, bout, way]  \n",
      "1           [street, looks, when, its, just, rained]  \n",
      "2  [theres, glow, off, pavement, you, walk, me, car]  \n",
      "3  [and, you, know, i, wanna, ask, you, dance, ri...  \n",
      "4               [in, middle, of, parking, lot, yeah]  \n"
     ]
    }
   ],
   "source": [
    "#see what `.split()` does\n",
    "song['clean_lyric_list_song'] = song['clean_lyric_song'].apply(lambda x: x.split())\n",
    "print(song.head())"
   ]
  },
  {
   "cell_type": "code",
   "execution_count": 13,
   "metadata": {},
   "outputs": [
    {
     "name": "stdout",
     "output_type": "stream",
     "text": [
      "                    album_name                  track_title  track_n  \\\n",
      "0  Fearless (Taylor’s Version)  Fearless (Taylor’s Version)        1   \n",
      "1  Fearless (Taylor’s Version)  Fearless (Taylor’s Version)        1   \n",
      "2  Fearless (Taylor’s Version)  Fearless (Taylor’s Version)        1   \n",
      "3  Fearless (Taylor’s Version)  Fearless (Taylor’s Version)        1   \n",
      "4  Fearless (Taylor’s Version)  Fearless (Taylor’s Version)        1   \n",
      "\n",
      "                                               lyric  line album_year  \\\n",
      "0                    There's something 'bout the way     1       2008   \n",
      "1             The street looks when it's just rained     2       2008   \n",
      "2  There's a glow off the pavement, you walk me t...     3       2008   \n",
      "3  And you know I wanna ask you to dance right there     4       2008   \n",
      "4             In the middle of the parking lot, yeah     5       2008   \n",
      "\n",
      "                                 clean_lyric_song  \\\n",
      "0                       theres something bout way   \n",
      "1               street looks when its just rained   \n",
      "2        theres glow off pavement you walk me car   \n",
      "3  and you know i wanna ask you dance right there   \n",
      "4                   in middle of parking lot yeah   \n",
      "\n",
      "                               clean_lyric_list_song  \\\n",
      "0                     [theres, something, bout, way]   \n",
      "1           [street, looks, when, its, just, rained]   \n",
      "2  [theres, glow, off, pavement, you, walk, me, car]   \n",
      "3  [and, you, know, i, wanna, ask, you, dance, ri...   \n",
      "4               [in, middle, of, parking, lot, yeah]   \n",
      "\n",
      "                        clean_lyric_list_rejoined  \n",
      "0                       theres something bout way  \n",
      "1               street looks when its just rained  \n",
      "2        theres glow off pavement you walk me car  \n",
      "3  and you know i wanna ask you dance right there  \n",
      "4                   in middle of parking lot yeah  \n"
     ]
    }
   ],
   "source": [
    "#see what `.join()` does\n",
    "song['clean_lyric_list_rejoined'] = song['clean_lyric_list_song'].apply(lambda x: ' '.join(x))\n",
    "print(song.head())"
   ]
  },
  {
   "cell_type": "code",
   "execution_count": 14,
   "metadata": {},
   "outputs": [
    {
     "name": "stdout",
     "output_type": "stream",
     "text": [
      "                    album_name                  track_title  track_n  \\\n",
      "0  Fearless (Taylor’s Version)  Fearless (Taylor’s Version)        1   \n",
      "1  Fearless (Taylor’s Version)  Fearless (Taylor’s Version)        1   \n",
      "2  Fearless (Taylor’s Version)  Fearless (Taylor’s Version)        1   \n",
      "3  Fearless (Taylor’s Version)  Fearless (Taylor’s Version)        1   \n",
      "4  Fearless (Taylor’s Version)  Fearless (Taylor’s Version)        1   \n",
      "\n",
      "                                               lyric  line album_year  \\\n",
      "0                    There's something 'bout the way     1       2008   \n",
      "1             The street looks when it's just rained     2       2008   \n",
      "2  There's a glow off the pavement, you walk me t...     3       2008   \n",
      "3  And you know I wanna ask you to dance right there     4       2008   \n",
      "4             In the middle of the parking lot, yeah     5       2008   \n",
      "\n",
      "                                 clean_lyric_song  \n",
      "0                       theres something bout way  \n",
      "1               street looks when its just rained  \n",
      "2        theres glow off pavement you walk me car  \n",
      "3  and you know i wanna ask you dance right there  \n",
      "4                   in middle of parking lot yeah  \n"
     ]
    }
   ],
   "source": [
    "#remove those illustration columns\n",
    "song.drop(['clean_lyric_list_song', 'clean_lyric_list_rejoined'], axis=1, inplace=True)\n",
    "print(song.head())"
   ]
  },
  {
   "cell_type": "code",
   "execution_count": 15,
   "metadata": {},
   "outputs": [
    {
     "name": "stdout",
     "output_type": "stream",
     "text": [
      "frozenset({'wherever', 'all', 'so', 'thereupon', 'twenty', 'up', 'anyhow', 'top', 'system', 'there', 'which', 'often', 'other', 'ever', 'now', 'might', 'name', 'one', 'become', 'thereafter', 'part', 'per', 'otherwise', 'found', 'most', 'on', 'upon', 'own', 'those', 'serious', 'either', 'whereas', 'something', 'thru', 'whether', 'would', 'made', 'twelve', 'who', 'towards', 'its', 'fifty', 'perhaps', 'nor', 'whose', 'see', 'beyond', 'becoming', 'else', 'have', 'out', 'yours', 'themselves', 'elsewhere', 'among', 'through', 're', 'your', 'her', 'six', 'himself', 'as', 'someone', 'noone', 'must', 'further', 'except', 'always', 'within', 'much', 'eleven', 'cant', 'take', 'being', 'yourself', 'our', 'until', 'whence', 'though', 'eg', 'show', 'done', 'may', 'between', 'meanwhile', 'because', 'or', 'nevertheless', 'hereupon', 'across', 'here', 'first', 'interest', 'onto', 'some', 'be', 'amongst', 'even', 'hereby', 'nobody', 'seem', 'back', 'seemed', 'was', 'several', 'bottom', 'also', 'beforehand', 'hereafter', 'below', 'latter', 'that', 'hasnt', 'mill', 'can', 'an', 'me', 'this', 'amount', 'anywhere', 'enough', 'whereafter', 'before', 'together', 'against', 'sixty', 'both', 'in', 'became', 'describe', 'only', 'con', 'third', 'please', 'indeed', 'co', 'nowhere', 'what', 'whither', 'everywhere', 'afterwards', 'get', 'without', 'empty', 'each', 'throughout', 'no', 'from', 'thereby', 'seems', 'former', 'into', 'ourselves', 'few', 'seeming', 'three', 'ie', 'these', 'detail', 'thick', 'my', 'nothing', 'do', 'whatever', 'off', 'had', 'been', 'others', 'very', 'such', 'myself', 'herein', 'yet', 'keep', 'four', 'although', 'two', 'them', 'it', 'sometime', 'itself', 'thence', 'he', 'everyone', 'alone', 'less', 'another', 'again', 'mostly', 'by', 'five', 'for', 'besides', 'therein', 'yourselves', 'sometimes', 'after', 'full', 'thus', 'whom', 'and', 'about', 'namely', 'around', 'well', 'next', 'than', 'above', 'down', 'formerly', 'many', 'every', 'mine', 'more', 'due', 'when', 'herself', 'front', 'why', 'could', 'toward', 'fill', 'latterly', 'she', 'whenever', 'go', 'never', 'rather', 'if', 'forty', 'couldnt', 'along', 'their', 'same', 'cannot', 'anyway', 'ten', 'any', 'hundred', 'is', 'everything', 'nine', 'therefore', 'etc', 'am', 'while', 'fifteen', 'whoever', 'were', 'whole', 'at', 'move', 'fire', 'should', 'hence', 'find', 'wherein', 'the', 'you', 'via', 'inc', 'under', 'over', 'with', 'de', 'side', 'moreover', 'then', 'un', 'but', 'sincere', 'ltd', 'to', 'anything', 'beside', 'give', 'us', 'i', 'they', 'cry', 'hers', 'neither', 'put', 'call', 'whereupon', 'however', 'will', 'since', 'becomes', 'anyone', 'of', 'behind', 'already', 'ours', 'somehow', 'too', 'bill', 'somewhere', 'thin', 'amoungst', 'whereby', 'eight', 'once', 'not', 'him', 'how', 'has', 'where', 'still', 'a', 'almost', 'are', 'last', 'least', 'during', 'we', 'none', 'his'})\n"
     ]
    }
   ],
   "source": [
    "#there are many pre-built lists of stopwords, including one from sklearn.\n",
    "#Most exclude too many words to be appropriate for song lyric analysis.\n",
    "from sklearn.feature_extraction import text\n",
    "skl_stop = text.ENGLISH_STOP_WORDS\n",
    "print(skl_stop)"
   ]
  },
  {
   "cell_type": "markdown",
   "metadata": {},
   "source": [
    "### 4. Find keyword mentions\n",
    "\n",
    "Because we are most interested in \"midnight\", we will first count how many times midnight occurs in Taylor Swift's lyrics. \n",
    "\n",
    "* Create a new column to indicate if a lyric has \"midnight\" in it.\n",
    "* Check how many times midnight occurrs"
   ]
  },
  {
   "cell_type": "code",
   "execution_count": 16,
   "metadata": {},
   "outputs": [
    {
     "data": {
      "text/plain": [
       "9"
      ]
     },
     "execution_count": 16,
     "metadata": {},
     "output_type": "execute_result"
    }
   ],
   "source": [
    "#create a new column to reflect if the lyrics contain midnight\n",
    "song['midnight'] = song['clean_lyric_song'].str.contains('midnight')\n",
    "sum(song['midnight'])"
   ]
  },
  {
   "cell_type": "markdown",
   "metadata": {},
   "source": [
    "* Midnight is not very common -- it only appeared 9 times! "
   ]
  },
  {
   "cell_type": "markdown",
   "metadata": {},
   "source": [
    "### 5. Expand the keyword list\n",
    "\n",
    "Midnight might not be the only way that Taylor Swift has talked about night. We need to expand our list. We've made a list of night words and day words. Feel free to add or remove words to make the list your own. \n",
    "\n",
    "* Join the lists into a regular expression string using the `.join()` function and the `|` to indicate \"or\"\n",
    "* Create a new column for each word category (day, night, time) that evaluates the clean lyrics for the presence of the words in your regular expression.\n",
    "* Count how many times the words appeared and print the result to the screen\n",
    "* Inspect the first few rows of the lyrics DataFrame to be sure it looks as you expect"
   ]
  },
  {
   "cell_type": "code",
   "execution_count": 17,
   "metadata": {},
   "outputs": [],
   "source": [
    "#night, day, and other time-related words\n",
    "night = ['night','midnight', 'dawn', 'dusk', 'evening', 'late', 'dark', '1am', '2am', '3am', '4am']\n",
    "day = ['day', 'morning', 'light', 'sun', 'dawn', 'noon', 'golden', 'bright']\n",
    "time = ['today', 'tomorrow', 'yesterday']"
   ]
  },
  {
   "cell_type": "code",
   "execution_count": 18,
   "metadata": {},
   "outputs": [],
   "source": [
    "#create a regular expression string for each list of words\n",
    "night_regex = '|'.join(night)\n",
    "day_regex = '|'.join(day)\n",
    "time_regex = '|'.join(time)"
   ]
  },
  {
   "cell_type": "code",
   "execution_count": 19,
   "metadata": {},
   "outputs": [],
   "source": [
    "#create a new column for each category of words\n",
    "song['night'] = song['clean_lyric_song'].str.contains(night_regex)\n",
    "song['day'] = song['clean_lyric_song'].str.contains(day_regex)\n",
    "song['time'] = song['clean_lyric_song'].str.contains(time_regex)"
   ]
  },
  {
   "cell_type": "code",
   "execution_count": 20,
   "metadata": {},
   "outputs": [],
   "source": [
    "#count the number of times each category of word appears in the lyrics\n",
    "night_count = sum(song['night'])\n",
    "day_count = sum(song['day'])\n",
    "time_count = sum(song['time'])\n"
   ]
  },
  {
   "cell_type": "code",
   "execution_count": 21,
   "metadata": {},
   "outputs": [
    {
     "name": "stdout",
     "output_type": "stream",
     "text": [
      "night words:  240\n",
      "day words:  363\n",
      "time words:  35\n"
     ]
    }
   ],
   "source": [
    "#print the count of each word category\n",
    "print(\"night words: \", night_count)\n",
    "print(\"day words: \", day_count)\n",
    "print(\"time words: \", time_count)"
   ]
  },
  {
   "cell_type": "code",
   "execution_count": 22,
   "metadata": {},
   "outputs": [
    {
     "data": {
      "text/html": [
       "<div>\n",
       "<style scoped>\n",
       "    .dataframe tbody tr th:only-of-type {\n",
       "        vertical-align: middle;\n",
       "    }\n",
       "\n",
       "    .dataframe tbody tr th {\n",
       "        vertical-align: top;\n",
       "    }\n",
       "\n",
       "    .dataframe thead th {\n",
       "        text-align: right;\n",
       "    }\n",
       "</style>\n",
       "<table border=\"1\" class=\"dataframe\">\n",
       "  <thead>\n",
       "    <tr style=\"text-align: right;\">\n",
       "      <th></th>\n",
       "      <th>album_name</th>\n",
       "      <th>track_title</th>\n",
       "      <th>track_n</th>\n",
       "      <th>lyric</th>\n",
       "      <th>line</th>\n",
       "      <th>album_year</th>\n",
       "      <th>clean_lyric_song</th>\n",
       "      <th>midnight</th>\n",
       "      <th>night</th>\n",
       "      <th>day</th>\n",
       "      <th>time</th>\n",
       "    </tr>\n",
       "  </thead>\n",
       "  <tbody>\n",
       "    <tr>\n",
       "      <th>0</th>\n",
       "      <td>Fearless (Taylor’s Version)</td>\n",
       "      <td>Fearless (Taylor’s Version)</td>\n",
       "      <td>1</td>\n",
       "      <td>There's something 'bout the way</td>\n",
       "      <td>1</td>\n",
       "      <td>2008</td>\n",
       "      <td>theres something bout way</td>\n",
       "      <td>False</td>\n",
       "      <td>False</td>\n",
       "      <td>False</td>\n",
       "      <td>False</td>\n",
       "    </tr>\n",
       "    <tr>\n",
       "      <th>1</th>\n",
       "      <td>Fearless (Taylor’s Version)</td>\n",
       "      <td>Fearless (Taylor’s Version)</td>\n",
       "      <td>1</td>\n",
       "      <td>The street looks when it's just rained</td>\n",
       "      <td>2</td>\n",
       "      <td>2008</td>\n",
       "      <td>street looks when its just rained</td>\n",
       "      <td>False</td>\n",
       "      <td>False</td>\n",
       "      <td>False</td>\n",
       "      <td>False</td>\n",
       "    </tr>\n",
       "    <tr>\n",
       "      <th>2</th>\n",
       "      <td>Fearless (Taylor’s Version)</td>\n",
       "      <td>Fearless (Taylor’s Version)</td>\n",
       "      <td>1</td>\n",
       "      <td>There's a glow off the pavement, you walk me t...</td>\n",
       "      <td>3</td>\n",
       "      <td>2008</td>\n",
       "      <td>theres glow off pavement you walk me car</td>\n",
       "      <td>False</td>\n",
       "      <td>False</td>\n",
       "      <td>False</td>\n",
       "      <td>False</td>\n",
       "    </tr>\n",
       "    <tr>\n",
       "      <th>3</th>\n",
       "      <td>Fearless (Taylor’s Version)</td>\n",
       "      <td>Fearless (Taylor’s Version)</td>\n",
       "      <td>1</td>\n",
       "      <td>And you know I wanna ask you to dance right there</td>\n",
       "      <td>4</td>\n",
       "      <td>2008</td>\n",
       "      <td>and you know i wanna ask you dance right there</td>\n",
       "      <td>False</td>\n",
       "      <td>False</td>\n",
       "      <td>False</td>\n",
       "      <td>False</td>\n",
       "    </tr>\n",
       "    <tr>\n",
       "      <th>4</th>\n",
       "      <td>Fearless (Taylor’s Version)</td>\n",
       "      <td>Fearless (Taylor’s Version)</td>\n",
       "      <td>1</td>\n",
       "      <td>In the middle of the parking lot, yeah</td>\n",
       "      <td>5</td>\n",
       "      <td>2008</td>\n",
       "      <td>in middle of parking lot yeah</td>\n",
       "      <td>False</td>\n",
       "      <td>False</td>\n",
       "      <td>False</td>\n",
       "      <td>False</td>\n",
       "    </tr>\n",
       "  </tbody>\n",
       "</table>\n",
       "</div>"
      ],
      "text/plain": [
       "                    album_name                  track_title  track_n  \\\n",
       "0  Fearless (Taylor’s Version)  Fearless (Taylor’s Version)        1   \n",
       "1  Fearless (Taylor’s Version)  Fearless (Taylor’s Version)        1   \n",
       "2  Fearless (Taylor’s Version)  Fearless (Taylor’s Version)        1   \n",
       "3  Fearless (Taylor’s Version)  Fearless (Taylor’s Version)        1   \n",
       "4  Fearless (Taylor’s Version)  Fearless (Taylor’s Version)        1   \n",
       "\n",
       "                                               lyric  line album_year  \\\n",
       "0                    There's something 'bout the way     1       2008   \n",
       "1             The street looks when it's just rained     2       2008   \n",
       "2  There's a glow off the pavement, you walk me t...     3       2008   \n",
       "3  And you know I wanna ask you to dance right there     4       2008   \n",
       "4             In the middle of the parking lot, yeah     5       2008   \n",
       "\n",
       "                                 clean_lyric_song  midnight  night    day  \\\n",
       "0                       theres something bout way     False  False  False   \n",
       "1               street looks when its just rained     False  False  False   \n",
       "2        theres glow off pavement you walk me car     False  False  False   \n",
       "3  and you know i wanna ask you dance right there     False  False  False   \n",
       "4                   in middle of parking lot yeah     False  False  False   \n",
       "\n",
       "    time  \n",
       "0  False  \n",
       "1  False  \n",
       "2  False  \n",
       "3  False  \n",
       "4  False  "
      ]
     },
     "execution_count": 22,
     "metadata": {},
     "output_type": "execute_result"
    }
   ],
   "source": [
    "song.head()"
   ]
  },
  {
   "cell_type": "markdown",
   "metadata": {},
   "source": [
    "* Taylor Swift has referenced time alot, there's enough mentions for us to potentially spot some trends. Also, she has mentioned day far more than night. This might be because of the search terms, so we might consider revisiting the list. Or it could be because she is actually more focused on day and light than she is on night and dark. \n"
   ]
  },
  {
   "cell_type": "markdown",
   "metadata": {},
   "source": [
    "# Task Group 2"
   ]
  },
  {
   "cell_type": "markdown",
   "metadata": {},
   "source": [
    "### 6. Visualize how Taylor Swift's mentions of time have changed over time.\n",
    "\n",
    "Now that we know that she has referenced time, we can see if that has changed, and if she has been dropping any hints about her upcoming album. \n",
    "* Create a new dataframe called `yearly_mentions` that groups her mentions by year, and takes the sum of the other columns. Reset the index on this DataFrame to make it easier to use with matplotlib\n",
    "* Create a line chart in matplotlib showing the night mentions over time."
   ]
  },
  {
   "cell_type": "code",
   "execution_count": 23,
   "metadata": {},
   "outputs": [
    {
     "ename": "TypeError",
     "evalue": "can only concatenate str (not \"int\") to str",
     "output_type": "error",
     "traceback": [
      "\u001b[1;31m---------------------------------------------------------------------------\u001b[0m",
      "\u001b[1;31mTypeError\u001b[0m                                 Traceback (most recent call last)",
      "Cell \u001b[1;32mIn[23], line 2\u001b[0m\n\u001b[0;32m      1\u001b[0m \u001b[38;5;66;03m#create a new dataframe for yearly mentions that groups mentions by year\u001b[39;00m\n\u001b[1;32m----> 2\u001b[0m yearly_mentions \u001b[38;5;241m=\u001b[39m song\u001b[38;5;241m.\u001b[39mgroupby(\u001b[38;5;124m'\u001b[39m\u001b[38;5;124malbum_year\u001b[39m\u001b[38;5;124m'\u001b[39m)\u001b[38;5;241m.\u001b[39msum()\u001b[38;5;241m.\u001b[39mreset_index()\n\u001b[0;32m      3\u001b[0m yearly_mentions\n",
      "File \u001b[1;32m~\\anaconda3\\Lib\\site-packages\\pandas\\core\\groupby\\groupby.py:2263\u001b[0m, in \u001b[0;36mGroupBy.sum\u001b[1;34m(self, numeric_only, min_count, engine, engine_kwargs)\u001b[0m\n\u001b[0;32m   2258\u001b[0m \u001b[38;5;28;01melse\u001b[39;00m:\n\u001b[0;32m   2259\u001b[0m     \u001b[38;5;66;03m# If we are grouping on categoricals we want unobserved categories to\u001b[39;00m\n\u001b[0;32m   2260\u001b[0m     \u001b[38;5;66;03m# return zero, rather than the default of NaN which the reindexing in\u001b[39;00m\n\u001b[0;32m   2261\u001b[0m     \u001b[38;5;66;03m# _agg_general() returns. GH #31422\u001b[39;00m\n\u001b[0;32m   2262\u001b[0m     \u001b[38;5;28;01mwith\u001b[39;00m com\u001b[38;5;241m.\u001b[39mtemp_setattr(\u001b[38;5;28mself\u001b[39m, \u001b[38;5;124m\"\u001b[39m\u001b[38;5;124mobserved\u001b[39m\u001b[38;5;124m\"\u001b[39m, \u001b[38;5;28;01mTrue\u001b[39;00m):\n\u001b[1;32m-> 2263\u001b[0m         result \u001b[38;5;241m=\u001b[39m \u001b[38;5;28mself\u001b[39m\u001b[38;5;241m.\u001b[39m_agg_general(\n\u001b[0;32m   2264\u001b[0m             numeric_only\u001b[38;5;241m=\u001b[39mnumeric_only,\n\u001b[0;32m   2265\u001b[0m             min_count\u001b[38;5;241m=\u001b[39mmin_count,\n\u001b[0;32m   2266\u001b[0m             alias\u001b[38;5;241m=\u001b[39m\u001b[38;5;124m\"\u001b[39m\u001b[38;5;124msum\u001b[39m\u001b[38;5;124m\"\u001b[39m,\n\u001b[0;32m   2267\u001b[0m             npfunc\u001b[38;5;241m=\u001b[39mnp\u001b[38;5;241m.\u001b[39msum,\n\u001b[0;32m   2268\u001b[0m         )\n\u001b[0;32m   2270\u001b[0m     \u001b[38;5;28;01mreturn\u001b[39;00m \u001b[38;5;28mself\u001b[39m\u001b[38;5;241m.\u001b[39m_reindex_output(result, fill_value\u001b[38;5;241m=\u001b[39m\u001b[38;5;241m0\u001b[39m)\n",
      "File \u001b[1;32m~\\anaconda3\\Lib\\site-packages\\pandas\\core\\groupby\\groupby.py:1422\u001b[0m, in \u001b[0;36mGroupBy._agg_general\u001b[1;34m(self, numeric_only, min_count, alias, npfunc)\u001b[0m\n\u001b[0;32m   1413\u001b[0m \u001b[38;5;129m@final\u001b[39m\n\u001b[0;32m   1414\u001b[0m \u001b[38;5;28;01mdef\u001b[39;00m \u001b[38;5;21m_agg_general\u001b[39m(\n\u001b[0;32m   1415\u001b[0m     \u001b[38;5;28mself\u001b[39m,\n\u001b[1;32m   (...)\u001b[0m\n\u001b[0;32m   1420\u001b[0m     npfunc: Callable,\n\u001b[0;32m   1421\u001b[0m ):\n\u001b[1;32m-> 1422\u001b[0m     result \u001b[38;5;241m=\u001b[39m \u001b[38;5;28mself\u001b[39m\u001b[38;5;241m.\u001b[39m_cython_agg_general(\n\u001b[0;32m   1423\u001b[0m         how\u001b[38;5;241m=\u001b[39malias,\n\u001b[0;32m   1424\u001b[0m         alt\u001b[38;5;241m=\u001b[39mnpfunc,\n\u001b[0;32m   1425\u001b[0m         numeric_only\u001b[38;5;241m=\u001b[39mnumeric_only,\n\u001b[0;32m   1426\u001b[0m         min_count\u001b[38;5;241m=\u001b[39mmin_count,\n\u001b[0;32m   1427\u001b[0m     )\n\u001b[0;32m   1428\u001b[0m     \u001b[38;5;28;01mreturn\u001b[39;00m result\u001b[38;5;241m.\u001b[39m__finalize__(\u001b[38;5;28mself\u001b[39m\u001b[38;5;241m.\u001b[39mobj, method\u001b[38;5;241m=\u001b[39m\u001b[38;5;124m\"\u001b[39m\u001b[38;5;124mgroupby\u001b[39m\u001b[38;5;124m\"\u001b[39m)\n",
      "File \u001b[1;32m~\\anaconda3\\Lib\\site-packages\\pandas\\core\\groupby\\groupby.py:1507\u001b[0m, in \u001b[0;36mGroupBy._cython_agg_general\u001b[1;34m(self, how, alt, numeric_only, min_count, **kwargs)\u001b[0m\n\u001b[0;32m   1503\u001b[0m         result \u001b[38;5;241m=\u001b[39m \u001b[38;5;28mself\u001b[39m\u001b[38;5;241m.\u001b[39m_agg_py_fallback(values, ndim\u001b[38;5;241m=\u001b[39mdata\u001b[38;5;241m.\u001b[39mndim, alt\u001b[38;5;241m=\u001b[39malt)\n\u001b[0;32m   1505\u001b[0m     \u001b[38;5;28;01mreturn\u001b[39;00m result\n\u001b[1;32m-> 1507\u001b[0m new_mgr \u001b[38;5;241m=\u001b[39m data\u001b[38;5;241m.\u001b[39mgrouped_reduce(array_func)\n\u001b[0;32m   1508\u001b[0m res \u001b[38;5;241m=\u001b[39m \u001b[38;5;28mself\u001b[39m\u001b[38;5;241m.\u001b[39m_wrap_agged_manager(new_mgr)\n\u001b[0;32m   1509\u001b[0m out \u001b[38;5;241m=\u001b[39m \u001b[38;5;28mself\u001b[39m\u001b[38;5;241m.\u001b[39m_wrap_aggregated_output(res)\n",
      "File \u001b[1;32m~\\anaconda3\\Lib\\site-packages\\pandas\\core\\internals\\managers.py:1503\u001b[0m, in \u001b[0;36mBlockManager.grouped_reduce\u001b[1;34m(self, func)\u001b[0m\n\u001b[0;32m   1499\u001b[0m \u001b[38;5;28;01mif\u001b[39;00m blk\u001b[38;5;241m.\u001b[39mis_object:\n\u001b[0;32m   1500\u001b[0m     \u001b[38;5;66;03m# split on object-dtype blocks bc some columns may raise\u001b[39;00m\n\u001b[0;32m   1501\u001b[0m     \u001b[38;5;66;03m#  while others do not.\u001b[39;00m\n\u001b[0;32m   1502\u001b[0m     \u001b[38;5;28;01mfor\u001b[39;00m sb \u001b[38;5;129;01min\u001b[39;00m blk\u001b[38;5;241m.\u001b[39m_split():\n\u001b[1;32m-> 1503\u001b[0m         applied \u001b[38;5;241m=\u001b[39m sb\u001b[38;5;241m.\u001b[39mapply(func)\n\u001b[0;32m   1504\u001b[0m         result_blocks \u001b[38;5;241m=\u001b[39m extend_blocks(applied, result_blocks)\n\u001b[0;32m   1505\u001b[0m \u001b[38;5;28;01melse\u001b[39;00m:\n",
      "File \u001b[1;32m~\\anaconda3\\Lib\\site-packages\\pandas\\core\\internals\\blocks.py:329\u001b[0m, in \u001b[0;36mBlock.apply\u001b[1;34m(self, func, **kwargs)\u001b[0m\n\u001b[0;32m    323\u001b[0m \u001b[38;5;129m@final\u001b[39m\n\u001b[0;32m    324\u001b[0m \u001b[38;5;28;01mdef\u001b[39;00m \u001b[38;5;21mapply\u001b[39m(\u001b[38;5;28mself\u001b[39m, func, \u001b[38;5;241m*\u001b[39m\u001b[38;5;241m*\u001b[39mkwargs) \u001b[38;5;241m-\u001b[39m\u001b[38;5;241m>\u001b[39m \u001b[38;5;28mlist\u001b[39m[Block]:\n\u001b[0;32m    325\u001b[0m \u001b[38;5;250m    \u001b[39m\u001b[38;5;124;03m\"\"\"\u001b[39;00m\n\u001b[0;32m    326\u001b[0m \u001b[38;5;124;03m    apply the function to my values; return a block if we are not\u001b[39;00m\n\u001b[0;32m    327\u001b[0m \u001b[38;5;124;03m    one\u001b[39;00m\n\u001b[0;32m    328\u001b[0m \u001b[38;5;124;03m    \"\"\"\u001b[39;00m\n\u001b[1;32m--> 329\u001b[0m     result \u001b[38;5;241m=\u001b[39m func(\u001b[38;5;28mself\u001b[39m\u001b[38;5;241m.\u001b[39mvalues, \u001b[38;5;241m*\u001b[39m\u001b[38;5;241m*\u001b[39mkwargs)\n\u001b[0;32m    331\u001b[0m     \u001b[38;5;28;01mreturn\u001b[39;00m \u001b[38;5;28mself\u001b[39m\u001b[38;5;241m.\u001b[39m_split_op_result(result)\n",
      "File \u001b[1;32m~\\anaconda3\\Lib\\site-packages\\pandas\\core\\groupby\\groupby.py:1490\u001b[0m, in \u001b[0;36mGroupBy._cython_agg_general.<locals>.array_func\u001b[1;34m(values)\u001b[0m\n\u001b[0;32m   1488\u001b[0m \u001b[38;5;28;01mdef\u001b[39;00m \u001b[38;5;21marray_func\u001b[39m(values: ArrayLike) \u001b[38;5;241m-\u001b[39m\u001b[38;5;241m>\u001b[39m ArrayLike:\n\u001b[0;32m   1489\u001b[0m     \u001b[38;5;28;01mtry\u001b[39;00m:\n\u001b[1;32m-> 1490\u001b[0m         result \u001b[38;5;241m=\u001b[39m \u001b[38;5;28mself\u001b[39m\u001b[38;5;241m.\u001b[39mgrouper\u001b[38;5;241m.\u001b[39m_cython_operation(\n\u001b[0;32m   1491\u001b[0m             \u001b[38;5;124m\"\u001b[39m\u001b[38;5;124maggregate\u001b[39m\u001b[38;5;124m\"\u001b[39m,\n\u001b[0;32m   1492\u001b[0m             values,\n\u001b[0;32m   1493\u001b[0m             how,\n\u001b[0;32m   1494\u001b[0m             axis\u001b[38;5;241m=\u001b[39mdata\u001b[38;5;241m.\u001b[39mndim \u001b[38;5;241m-\u001b[39m \u001b[38;5;241m1\u001b[39m,\n\u001b[0;32m   1495\u001b[0m             min_count\u001b[38;5;241m=\u001b[39mmin_count,\n\u001b[0;32m   1496\u001b[0m             \u001b[38;5;241m*\u001b[39m\u001b[38;5;241m*\u001b[39mkwargs,\n\u001b[0;32m   1497\u001b[0m         )\n\u001b[0;32m   1498\u001b[0m     \u001b[38;5;28;01mexcept\u001b[39;00m \u001b[38;5;167;01mNotImplementedError\u001b[39;00m:\n\u001b[0;32m   1499\u001b[0m         \u001b[38;5;66;03m# generally if we have numeric_only=False\u001b[39;00m\n\u001b[0;32m   1500\u001b[0m         \u001b[38;5;66;03m# and non-applicable functions\u001b[39;00m\n\u001b[0;32m   1501\u001b[0m         \u001b[38;5;66;03m# try to python agg\u001b[39;00m\n\u001b[0;32m   1502\u001b[0m         \u001b[38;5;66;03m# TODO: shouldn't min_count matter?\u001b[39;00m\n\u001b[0;32m   1503\u001b[0m         result \u001b[38;5;241m=\u001b[39m \u001b[38;5;28mself\u001b[39m\u001b[38;5;241m.\u001b[39m_agg_py_fallback(values, ndim\u001b[38;5;241m=\u001b[39mdata\u001b[38;5;241m.\u001b[39mndim, alt\u001b[38;5;241m=\u001b[39malt)\n",
      "File \u001b[1;32m~\\anaconda3\\Lib\\site-packages\\pandas\\core\\groupby\\ops.py:959\u001b[0m, in \u001b[0;36mBaseGrouper._cython_operation\u001b[1;34m(self, kind, values, how, axis, min_count, **kwargs)\u001b[0m\n\u001b[0;32m    957\u001b[0m ids, _, _ \u001b[38;5;241m=\u001b[39m \u001b[38;5;28mself\u001b[39m\u001b[38;5;241m.\u001b[39mgroup_info\n\u001b[0;32m    958\u001b[0m ngroups \u001b[38;5;241m=\u001b[39m \u001b[38;5;28mself\u001b[39m\u001b[38;5;241m.\u001b[39mngroups\n\u001b[1;32m--> 959\u001b[0m \u001b[38;5;28;01mreturn\u001b[39;00m cy_op\u001b[38;5;241m.\u001b[39mcython_operation(\n\u001b[0;32m    960\u001b[0m     values\u001b[38;5;241m=\u001b[39mvalues,\n\u001b[0;32m    961\u001b[0m     axis\u001b[38;5;241m=\u001b[39maxis,\n\u001b[0;32m    962\u001b[0m     min_count\u001b[38;5;241m=\u001b[39mmin_count,\n\u001b[0;32m    963\u001b[0m     comp_ids\u001b[38;5;241m=\u001b[39mids,\n\u001b[0;32m    964\u001b[0m     ngroups\u001b[38;5;241m=\u001b[39mngroups,\n\u001b[0;32m    965\u001b[0m     \u001b[38;5;241m*\u001b[39m\u001b[38;5;241m*\u001b[39mkwargs,\n\u001b[0;32m    966\u001b[0m )\n",
      "File \u001b[1;32m~\\anaconda3\\Lib\\site-packages\\pandas\\core\\groupby\\ops.py:657\u001b[0m, in \u001b[0;36mWrappedCythonOp.cython_operation\u001b[1;34m(self, values, axis, min_count, comp_ids, ngroups, **kwargs)\u001b[0m\n\u001b[0;32m    647\u001b[0m \u001b[38;5;28;01mif\u001b[39;00m \u001b[38;5;129;01mnot\u001b[39;00m \u001b[38;5;28misinstance\u001b[39m(values, np\u001b[38;5;241m.\u001b[39mndarray):\n\u001b[0;32m    648\u001b[0m     \u001b[38;5;66;03m# i.e. ExtensionArray\u001b[39;00m\n\u001b[0;32m    649\u001b[0m     \u001b[38;5;28;01mreturn\u001b[39;00m \u001b[38;5;28mself\u001b[39m\u001b[38;5;241m.\u001b[39m_ea_wrap_cython_operation(\n\u001b[0;32m    650\u001b[0m         values,\n\u001b[0;32m    651\u001b[0m         min_count\u001b[38;5;241m=\u001b[39mmin_count,\n\u001b[1;32m   (...)\u001b[0m\n\u001b[0;32m    654\u001b[0m         \u001b[38;5;241m*\u001b[39m\u001b[38;5;241m*\u001b[39mkwargs,\n\u001b[0;32m    655\u001b[0m     )\n\u001b[1;32m--> 657\u001b[0m \u001b[38;5;28;01mreturn\u001b[39;00m \u001b[38;5;28mself\u001b[39m\u001b[38;5;241m.\u001b[39m_cython_op_ndim_compat(\n\u001b[0;32m    658\u001b[0m     values,\n\u001b[0;32m    659\u001b[0m     min_count\u001b[38;5;241m=\u001b[39mmin_count,\n\u001b[0;32m    660\u001b[0m     ngroups\u001b[38;5;241m=\u001b[39mngroups,\n\u001b[0;32m    661\u001b[0m     comp_ids\u001b[38;5;241m=\u001b[39mcomp_ids,\n\u001b[0;32m    662\u001b[0m     mask\u001b[38;5;241m=\u001b[39m\u001b[38;5;28;01mNone\u001b[39;00m,\n\u001b[0;32m    663\u001b[0m     \u001b[38;5;241m*\u001b[39m\u001b[38;5;241m*\u001b[39mkwargs,\n\u001b[0;32m    664\u001b[0m )\n",
      "File \u001b[1;32m~\\anaconda3\\Lib\\site-packages\\pandas\\core\\groupby\\ops.py:497\u001b[0m, in \u001b[0;36mWrappedCythonOp._cython_op_ndim_compat\u001b[1;34m(self, values, min_count, ngroups, comp_ids, mask, result_mask, **kwargs)\u001b[0m\n\u001b[0;32m    494\u001b[0m     \u001b[38;5;66;03m# otherwise we have OHLC\u001b[39;00m\n\u001b[0;32m    495\u001b[0m     \u001b[38;5;28;01mreturn\u001b[39;00m res\u001b[38;5;241m.\u001b[39mT\n\u001b[1;32m--> 497\u001b[0m \u001b[38;5;28;01mreturn\u001b[39;00m \u001b[38;5;28mself\u001b[39m\u001b[38;5;241m.\u001b[39m_call_cython_op(\n\u001b[0;32m    498\u001b[0m     values,\n\u001b[0;32m    499\u001b[0m     min_count\u001b[38;5;241m=\u001b[39mmin_count,\n\u001b[0;32m    500\u001b[0m     ngroups\u001b[38;5;241m=\u001b[39mngroups,\n\u001b[0;32m    501\u001b[0m     comp_ids\u001b[38;5;241m=\u001b[39mcomp_ids,\n\u001b[0;32m    502\u001b[0m     mask\u001b[38;5;241m=\u001b[39mmask,\n\u001b[0;32m    503\u001b[0m     result_mask\u001b[38;5;241m=\u001b[39mresult_mask,\n\u001b[0;32m    504\u001b[0m     \u001b[38;5;241m*\u001b[39m\u001b[38;5;241m*\u001b[39mkwargs,\n\u001b[0;32m    505\u001b[0m )\n",
      "File \u001b[1;32m~\\anaconda3\\Lib\\site-packages\\pandas\\core\\groupby\\ops.py:549\u001b[0m, in \u001b[0;36mWrappedCythonOp._call_cython_op\u001b[1;34m(self, values, min_count, ngroups, comp_ids, mask, result_mask, **kwargs)\u001b[0m\n\u001b[0;32m    547\u001b[0m counts \u001b[38;5;241m=\u001b[39m np\u001b[38;5;241m.\u001b[39mzeros(ngroups, dtype\u001b[38;5;241m=\u001b[39mnp\u001b[38;5;241m.\u001b[39mint64)\n\u001b[0;32m    548\u001b[0m \u001b[38;5;28;01mif\u001b[39;00m \u001b[38;5;28mself\u001b[39m\u001b[38;5;241m.\u001b[39mhow \u001b[38;5;129;01min\u001b[39;00m [\u001b[38;5;124m\"\u001b[39m\u001b[38;5;124mmin\u001b[39m\u001b[38;5;124m\"\u001b[39m, \u001b[38;5;124m\"\u001b[39m\u001b[38;5;124mmax\u001b[39m\u001b[38;5;124m\"\u001b[39m, \u001b[38;5;124m\"\u001b[39m\u001b[38;5;124mmean\u001b[39m\u001b[38;5;124m\"\u001b[39m, \u001b[38;5;124m\"\u001b[39m\u001b[38;5;124mlast\u001b[39m\u001b[38;5;124m\"\u001b[39m, \u001b[38;5;124m\"\u001b[39m\u001b[38;5;124mfirst\u001b[39m\u001b[38;5;124m\"\u001b[39m, \u001b[38;5;124m\"\u001b[39m\u001b[38;5;124msum\u001b[39m\u001b[38;5;124m\"\u001b[39m]:\n\u001b[1;32m--> 549\u001b[0m     func(\n\u001b[0;32m    550\u001b[0m         out\u001b[38;5;241m=\u001b[39mresult,\n\u001b[0;32m    551\u001b[0m         counts\u001b[38;5;241m=\u001b[39mcounts,\n\u001b[0;32m    552\u001b[0m         values\u001b[38;5;241m=\u001b[39mvalues,\n\u001b[0;32m    553\u001b[0m         labels\u001b[38;5;241m=\u001b[39mcomp_ids,\n\u001b[0;32m    554\u001b[0m         min_count\u001b[38;5;241m=\u001b[39mmin_count,\n\u001b[0;32m    555\u001b[0m         mask\u001b[38;5;241m=\u001b[39mmask,\n\u001b[0;32m    556\u001b[0m         result_mask\u001b[38;5;241m=\u001b[39mresult_mask,\n\u001b[0;32m    557\u001b[0m         is_datetimelike\u001b[38;5;241m=\u001b[39mis_datetimelike,\n\u001b[0;32m    558\u001b[0m     )\n\u001b[0;32m    559\u001b[0m \u001b[38;5;28;01melif\u001b[39;00m \u001b[38;5;28mself\u001b[39m\u001b[38;5;241m.\u001b[39mhow \u001b[38;5;129;01min\u001b[39;00m [\u001b[38;5;124m\"\u001b[39m\u001b[38;5;124mvar\u001b[39m\u001b[38;5;124m\"\u001b[39m, \u001b[38;5;124m\"\u001b[39m\u001b[38;5;124mohlc\u001b[39m\u001b[38;5;124m\"\u001b[39m, \u001b[38;5;124m\"\u001b[39m\u001b[38;5;124mprod\u001b[39m\u001b[38;5;124m\"\u001b[39m, \u001b[38;5;124m\"\u001b[39m\u001b[38;5;124mmedian\u001b[39m\u001b[38;5;124m\"\u001b[39m]:\n\u001b[0;32m    560\u001b[0m     func(\n\u001b[0;32m    561\u001b[0m         result,\n\u001b[0;32m    562\u001b[0m         counts,\n\u001b[1;32m   (...)\u001b[0m\n\u001b[0;32m    568\u001b[0m         \u001b[38;5;241m*\u001b[39m\u001b[38;5;241m*\u001b[39mkwargs,\n\u001b[0;32m    569\u001b[0m     )\n",
      "File \u001b[1;32m~\\anaconda3\\Lib\\site-packages\\pandas\\_libs\\groupby.pyx:717\u001b[0m, in \u001b[0;36mpandas._libs.groupby.group_sum\u001b[1;34m()\u001b[0m\n",
      "\u001b[1;31mTypeError\u001b[0m: can only concatenate str (not \"int\") to str"
     ]
    }
   ],
   "source": [
    "#create a new dataframe for yearly mentions that groups mentions by year\n",
    "yearly_mentions = song.groupby('album_year').sum().reset_index()\n",
    "yearly_mentions"
   ]
  },
  {
   "cell_type": "code",
   "execution_count": 24,
   "metadata": {},
   "outputs": [
    {
     "ename": "TypeError",
     "evalue": "can only concatenate str (not \"int\") to str",
     "output_type": "error",
     "traceback": [
      "\u001b[1;31m---------------------------------------------------------------------------\u001b[0m",
      "\u001b[1;31mTypeError\u001b[0m                                 Traceback (most recent call last)",
      "Cell \u001b[1;32mIn[24], line 2\u001b[0m\n\u001b[0;32m      1\u001b[0m \u001b[38;5;66;03m#create a new dataframe for yearly mentions that groups mentions by year\u001b[39;00m\n\u001b[1;32m----> 2\u001b[0m yearly_mentions \u001b[38;5;241m=\u001b[39m song\u001b[38;5;241m.\u001b[39mgroupby(\u001b[38;5;124m'\u001b[39m\u001b[38;5;124malbum_year\u001b[39m\u001b[38;5;124m'\u001b[39m)\u001b[38;5;241m.\u001b[39msum()\u001b[38;5;241m.\u001b[39mreset_index()\n\u001b[0;32m      3\u001b[0m yearly_mentions[\u001b[38;5;124m'\u001b[39m\u001b[38;5;124malbum_year\u001b[39m\u001b[38;5;124m'\u001b[39m] \u001b[38;5;241m=\u001b[39m yearly_mentions[\u001b[38;5;124m'\u001b[39m\u001b[38;5;124malbum_year\u001b[39m\u001b[38;5;124m'\u001b[39m]\u001b[38;5;241m.\u001b[39mastype(\u001b[38;5;28mstr\u001b[39m)\n\u001b[0;32m      4\u001b[0m yearly_mentions\n",
      "File \u001b[1;32m~\\anaconda3\\Lib\\site-packages\\pandas\\core\\groupby\\groupby.py:2263\u001b[0m, in \u001b[0;36mGroupBy.sum\u001b[1;34m(self, numeric_only, min_count, engine, engine_kwargs)\u001b[0m\n\u001b[0;32m   2258\u001b[0m \u001b[38;5;28;01melse\u001b[39;00m:\n\u001b[0;32m   2259\u001b[0m     \u001b[38;5;66;03m# If we are grouping on categoricals we want unobserved categories to\u001b[39;00m\n\u001b[0;32m   2260\u001b[0m     \u001b[38;5;66;03m# return zero, rather than the default of NaN which the reindexing in\u001b[39;00m\n\u001b[0;32m   2261\u001b[0m     \u001b[38;5;66;03m# _agg_general() returns. GH #31422\u001b[39;00m\n\u001b[0;32m   2262\u001b[0m     \u001b[38;5;28;01mwith\u001b[39;00m com\u001b[38;5;241m.\u001b[39mtemp_setattr(\u001b[38;5;28mself\u001b[39m, \u001b[38;5;124m\"\u001b[39m\u001b[38;5;124mobserved\u001b[39m\u001b[38;5;124m\"\u001b[39m, \u001b[38;5;28;01mTrue\u001b[39;00m):\n\u001b[1;32m-> 2263\u001b[0m         result \u001b[38;5;241m=\u001b[39m \u001b[38;5;28mself\u001b[39m\u001b[38;5;241m.\u001b[39m_agg_general(\n\u001b[0;32m   2264\u001b[0m             numeric_only\u001b[38;5;241m=\u001b[39mnumeric_only,\n\u001b[0;32m   2265\u001b[0m             min_count\u001b[38;5;241m=\u001b[39mmin_count,\n\u001b[0;32m   2266\u001b[0m             alias\u001b[38;5;241m=\u001b[39m\u001b[38;5;124m\"\u001b[39m\u001b[38;5;124msum\u001b[39m\u001b[38;5;124m\"\u001b[39m,\n\u001b[0;32m   2267\u001b[0m             npfunc\u001b[38;5;241m=\u001b[39mnp\u001b[38;5;241m.\u001b[39msum,\n\u001b[0;32m   2268\u001b[0m         )\n\u001b[0;32m   2270\u001b[0m     \u001b[38;5;28;01mreturn\u001b[39;00m \u001b[38;5;28mself\u001b[39m\u001b[38;5;241m.\u001b[39m_reindex_output(result, fill_value\u001b[38;5;241m=\u001b[39m\u001b[38;5;241m0\u001b[39m)\n",
      "File \u001b[1;32m~\\anaconda3\\Lib\\site-packages\\pandas\\core\\groupby\\groupby.py:1422\u001b[0m, in \u001b[0;36mGroupBy._agg_general\u001b[1;34m(self, numeric_only, min_count, alias, npfunc)\u001b[0m\n\u001b[0;32m   1413\u001b[0m \u001b[38;5;129m@final\u001b[39m\n\u001b[0;32m   1414\u001b[0m \u001b[38;5;28;01mdef\u001b[39;00m \u001b[38;5;21m_agg_general\u001b[39m(\n\u001b[0;32m   1415\u001b[0m     \u001b[38;5;28mself\u001b[39m,\n\u001b[1;32m   (...)\u001b[0m\n\u001b[0;32m   1420\u001b[0m     npfunc: Callable,\n\u001b[0;32m   1421\u001b[0m ):\n\u001b[1;32m-> 1422\u001b[0m     result \u001b[38;5;241m=\u001b[39m \u001b[38;5;28mself\u001b[39m\u001b[38;5;241m.\u001b[39m_cython_agg_general(\n\u001b[0;32m   1423\u001b[0m         how\u001b[38;5;241m=\u001b[39malias,\n\u001b[0;32m   1424\u001b[0m         alt\u001b[38;5;241m=\u001b[39mnpfunc,\n\u001b[0;32m   1425\u001b[0m         numeric_only\u001b[38;5;241m=\u001b[39mnumeric_only,\n\u001b[0;32m   1426\u001b[0m         min_count\u001b[38;5;241m=\u001b[39mmin_count,\n\u001b[0;32m   1427\u001b[0m     )\n\u001b[0;32m   1428\u001b[0m     \u001b[38;5;28;01mreturn\u001b[39;00m result\u001b[38;5;241m.\u001b[39m__finalize__(\u001b[38;5;28mself\u001b[39m\u001b[38;5;241m.\u001b[39mobj, method\u001b[38;5;241m=\u001b[39m\u001b[38;5;124m\"\u001b[39m\u001b[38;5;124mgroupby\u001b[39m\u001b[38;5;124m\"\u001b[39m)\n",
      "File \u001b[1;32m~\\anaconda3\\Lib\\site-packages\\pandas\\core\\groupby\\groupby.py:1507\u001b[0m, in \u001b[0;36mGroupBy._cython_agg_general\u001b[1;34m(self, how, alt, numeric_only, min_count, **kwargs)\u001b[0m\n\u001b[0;32m   1503\u001b[0m         result \u001b[38;5;241m=\u001b[39m \u001b[38;5;28mself\u001b[39m\u001b[38;5;241m.\u001b[39m_agg_py_fallback(values, ndim\u001b[38;5;241m=\u001b[39mdata\u001b[38;5;241m.\u001b[39mndim, alt\u001b[38;5;241m=\u001b[39malt)\n\u001b[0;32m   1505\u001b[0m     \u001b[38;5;28;01mreturn\u001b[39;00m result\n\u001b[1;32m-> 1507\u001b[0m new_mgr \u001b[38;5;241m=\u001b[39m data\u001b[38;5;241m.\u001b[39mgrouped_reduce(array_func)\n\u001b[0;32m   1508\u001b[0m res \u001b[38;5;241m=\u001b[39m \u001b[38;5;28mself\u001b[39m\u001b[38;5;241m.\u001b[39m_wrap_agged_manager(new_mgr)\n\u001b[0;32m   1509\u001b[0m out \u001b[38;5;241m=\u001b[39m \u001b[38;5;28mself\u001b[39m\u001b[38;5;241m.\u001b[39m_wrap_aggregated_output(res)\n",
      "File \u001b[1;32m~\\anaconda3\\Lib\\site-packages\\pandas\\core\\internals\\managers.py:1503\u001b[0m, in \u001b[0;36mBlockManager.grouped_reduce\u001b[1;34m(self, func)\u001b[0m\n\u001b[0;32m   1499\u001b[0m \u001b[38;5;28;01mif\u001b[39;00m blk\u001b[38;5;241m.\u001b[39mis_object:\n\u001b[0;32m   1500\u001b[0m     \u001b[38;5;66;03m# split on object-dtype blocks bc some columns may raise\u001b[39;00m\n\u001b[0;32m   1501\u001b[0m     \u001b[38;5;66;03m#  while others do not.\u001b[39;00m\n\u001b[0;32m   1502\u001b[0m     \u001b[38;5;28;01mfor\u001b[39;00m sb \u001b[38;5;129;01min\u001b[39;00m blk\u001b[38;5;241m.\u001b[39m_split():\n\u001b[1;32m-> 1503\u001b[0m         applied \u001b[38;5;241m=\u001b[39m sb\u001b[38;5;241m.\u001b[39mapply(func)\n\u001b[0;32m   1504\u001b[0m         result_blocks \u001b[38;5;241m=\u001b[39m extend_blocks(applied, result_blocks)\n\u001b[0;32m   1505\u001b[0m \u001b[38;5;28;01melse\u001b[39;00m:\n",
      "File \u001b[1;32m~\\anaconda3\\Lib\\site-packages\\pandas\\core\\internals\\blocks.py:329\u001b[0m, in \u001b[0;36mBlock.apply\u001b[1;34m(self, func, **kwargs)\u001b[0m\n\u001b[0;32m    323\u001b[0m \u001b[38;5;129m@final\u001b[39m\n\u001b[0;32m    324\u001b[0m \u001b[38;5;28;01mdef\u001b[39;00m \u001b[38;5;21mapply\u001b[39m(\u001b[38;5;28mself\u001b[39m, func, \u001b[38;5;241m*\u001b[39m\u001b[38;5;241m*\u001b[39mkwargs) \u001b[38;5;241m-\u001b[39m\u001b[38;5;241m>\u001b[39m \u001b[38;5;28mlist\u001b[39m[Block]:\n\u001b[0;32m    325\u001b[0m \u001b[38;5;250m    \u001b[39m\u001b[38;5;124;03m\"\"\"\u001b[39;00m\n\u001b[0;32m    326\u001b[0m \u001b[38;5;124;03m    apply the function to my values; return a block if we are not\u001b[39;00m\n\u001b[0;32m    327\u001b[0m \u001b[38;5;124;03m    one\u001b[39;00m\n\u001b[0;32m    328\u001b[0m \u001b[38;5;124;03m    \"\"\"\u001b[39;00m\n\u001b[1;32m--> 329\u001b[0m     result \u001b[38;5;241m=\u001b[39m func(\u001b[38;5;28mself\u001b[39m\u001b[38;5;241m.\u001b[39mvalues, \u001b[38;5;241m*\u001b[39m\u001b[38;5;241m*\u001b[39mkwargs)\n\u001b[0;32m    331\u001b[0m     \u001b[38;5;28;01mreturn\u001b[39;00m \u001b[38;5;28mself\u001b[39m\u001b[38;5;241m.\u001b[39m_split_op_result(result)\n",
      "File \u001b[1;32m~\\anaconda3\\Lib\\site-packages\\pandas\\core\\groupby\\groupby.py:1490\u001b[0m, in \u001b[0;36mGroupBy._cython_agg_general.<locals>.array_func\u001b[1;34m(values)\u001b[0m\n\u001b[0;32m   1488\u001b[0m \u001b[38;5;28;01mdef\u001b[39;00m \u001b[38;5;21marray_func\u001b[39m(values: ArrayLike) \u001b[38;5;241m-\u001b[39m\u001b[38;5;241m>\u001b[39m ArrayLike:\n\u001b[0;32m   1489\u001b[0m     \u001b[38;5;28;01mtry\u001b[39;00m:\n\u001b[1;32m-> 1490\u001b[0m         result \u001b[38;5;241m=\u001b[39m \u001b[38;5;28mself\u001b[39m\u001b[38;5;241m.\u001b[39mgrouper\u001b[38;5;241m.\u001b[39m_cython_operation(\n\u001b[0;32m   1491\u001b[0m             \u001b[38;5;124m\"\u001b[39m\u001b[38;5;124maggregate\u001b[39m\u001b[38;5;124m\"\u001b[39m,\n\u001b[0;32m   1492\u001b[0m             values,\n\u001b[0;32m   1493\u001b[0m             how,\n\u001b[0;32m   1494\u001b[0m             axis\u001b[38;5;241m=\u001b[39mdata\u001b[38;5;241m.\u001b[39mndim \u001b[38;5;241m-\u001b[39m \u001b[38;5;241m1\u001b[39m,\n\u001b[0;32m   1495\u001b[0m             min_count\u001b[38;5;241m=\u001b[39mmin_count,\n\u001b[0;32m   1496\u001b[0m             \u001b[38;5;241m*\u001b[39m\u001b[38;5;241m*\u001b[39mkwargs,\n\u001b[0;32m   1497\u001b[0m         )\n\u001b[0;32m   1498\u001b[0m     \u001b[38;5;28;01mexcept\u001b[39;00m \u001b[38;5;167;01mNotImplementedError\u001b[39;00m:\n\u001b[0;32m   1499\u001b[0m         \u001b[38;5;66;03m# generally if we have numeric_only=False\u001b[39;00m\n\u001b[0;32m   1500\u001b[0m         \u001b[38;5;66;03m# and non-applicable functions\u001b[39;00m\n\u001b[0;32m   1501\u001b[0m         \u001b[38;5;66;03m# try to python agg\u001b[39;00m\n\u001b[0;32m   1502\u001b[0m         \u001b[38;5;66;03m# TODO: shouldn't min_count matter?\u001b[39;00m\n\u001b[0;32m   1503\u001b[0m         result \u001b[38;5;241m=\u001b[39m \u001b[38;5;28mself\u001b[39m\u001b[38;5;241m.\u001b[39m_agg_py_fallback(values, ndim\u001b[38;5;241m=\u001b[39mdata\u001b[38;5;241m.\u001b[39mndim, alt\u001b[38;5;241m=\u001b[39malt)\n",
      "File \u001b[1;32m~\\anaconda3\\Lib\\site-packages\\pandas\\core\\groupby\\ops.py:959\u001b[0m, in \u001b[0;36mBaseGrouper._cython_operation\u001b[1;34m(self, kind, values, how, axis, min_count, **kwargs)\u001b[0m\n\u001b[0;32m    957\u001b[0m ids, _, _ \u001b[38;5;241m=\u001b[39m \u001b[38;5;28mself\u001b[39m\u001b[38;5;241m.\u001b[39mgroup_info\n\u001b[0;32m    958\u001b[0m ngroups \u001b[38;5;241m=\u001b[39m \u001b[38;5;28mself\u001b[39m\u001b[38;5;241m.\u001b[39mngroups\n\u001b[1;32m--> 959\u001b[0m \u001b[38;5;28;01mreturn\u001b[39;00m cy_op\u001b[38;5;241m.\u001b[39mcython_operation(\n\u001b[0;32m    960\u001b[0m     values\u001b[38;5;241m=\u001b[39mvalues,\n\u001b[0;32m    961\u001b[0m     axis\u001b[38;5;241m=\u001b[39maxis,\n\u001b[0;32m    962\u001b[0m     min_count\u001b[38;5;241m=\u001b[39mmin_count,\n\u001b[0;32m    963\u001b[0m     comp_ids\u001b[38;5;241m=\u001b[39mids,\n\u001b[0;32m    964\u001b[0m     ngroups\u001b[38;5;241m=\u001b[39mngroups,\n\u001b[0;32m    965\u001b[0m     \u001b[38;5;241m*\u001b[39m\u001b[38;5;241m*\u001b[39mkwargs,\n\u001b[0;32m    966\u001b[0m )\n",
      "File \u001b[1;32m~\\anaconda3\\Lib\\site-packages\\pandas\\core\\groupby\\ops.py:657\u001b[0m, in \u001b[0;36mWrappedCythonOp.cython_operation\u001b[1;34m(self, values, axis, min_count, comp_ids, ngroups, **kwargs)\u001b[0m\n\u001b[0;32m    647\u001b[0m \u001b[38;5;28;01mif\u001b[39;00m \u001b[38;5;129;01mnot\u001b[39;00m \u001b[38;5;28misinstance\u001b[39m(values, np\u001b[38;5;241m.\u001b[39mndarray):\n\u001b[0;32m    648\u001b[0m     \u001b[38;5;66;03m# i.e. ExtensionArray\u001b[39;00m\n\u001b[0;32m    649\u001b[0m     \u001b[38;5;28;01mreturn\u001b[39;00m \u001b[38;5;28mself\u001b[39m\u001b[38;5;241m.\u001b[39m_ea_wrap_cython_operation(\n\u001b[0;32m    650\u001b[0m         values,\n\u001b[0;32m    651\u001b[0m         min_count\u001b[38;5;241m=\u001b[39mmin_count,\n\u001b[1;32m   (...)\u001b[0m\n\u001b[0;32m    654\u001b[0m         \u001b[38;5;241m*\u001b[39m\u001b[38;5;241m*\u001b[39mkwargs,\n\u001b[0;32m    655\u001b[0m     )\n\u001b[1;32m--> 657\u001b[0m \u001b[38;5;28;01mreturn\u001b[39;00m \u001b[38;5;28mself\u001b[39m\u001b[38;5;241m.\u001b[39m_cython_op_ndim_compat(\n\u001b[0;32m    658\u001b[0m     values,\n\u001b[0;32m    659\u001b[0m     min_count\u001b[38;5;241m=\u001b[39mmin_count,\n\u001b[0;32m    660\u001b[0m     ngroups\u001b[38;5;241m=\u001b[39mngroups,\n\u001b[0;32m    661\u001b[0m     comp_ids\u001b[38;5;241m=\u001b[39mcomp_ids,\n\u001b[0;32m    662\u001b[0m     mask\u001b[38;5;241m=\u001b[39m\u001b[38;5;28;01mNone\u001b[39;00m,\n\u001b[0;32m    663\u001b[0m     \u001b[38;5;241m*\u001b[39m\u001b[38;5;241m*\u001b[39mkwargs,\n\u001b[0;32m    664\u001b[0m )\n",
      "File \u001b[1;32m~\\anaconda3\\Lib\\site-packages\\pandas\\core\\groupby\\ops.py:497\u001b[0m, in \u001b[0;36mWrappedCythonOp._cython_op_ndim_compat\u001b[1;34m(self, values, min_count, ngroups, comp_ids, mask, result_mask, **kwargs)\u001b[0m\n\u001b[0;32m    494\u001b[0m     \u001b[38;5;66;03m# otherwise we have OHLC\u001b[39;00m\n\u001b[0;32m    495\u001b[0m     \u001b[38;5;28;01mreturn\u001b[39;00m res\u001b[38;5;241m.\u001b[39mT\n\u001b[1;32m--> 497\u001b[0m \u001b[38;5;28;01mreturn\u001b[39;00m \u001b[38;5;28mself\u001b[39m\u001b[38;5;241m.\u001b[39m_call_cython_op(\n\u001b[0;32m    498\u001b[0m     values,\n\u001b[0;32m    499\u001b[0m     min_count\u001b[38;5;241m=\u001b[39mmin_count,\n\u001b[0;32m    500\u001b[0m     ngroups\u001b[38;5;241m=\u001b[39mngroups,\n\u001b[0;32m    501\u001b[0m     comp_ids\u001b[38;5;241m=\u001b[39mcomp_ids,\n\u001b[0;32m    502\u001b[0m     mask\u001b[38;5;241m=\u001b[39mmask,\n\u001b[0;32m    503\u001b[0m     result_mask\u001b[38;5;241m=\u001b[39mresult_mask,\n\u001b[0;32m    504\u001b[0m     \u001b[38;5;241m*\u001b[39m\u001b[38;5;241m*\u001b[39mkwargs,\n\u001b[0;32m    505\u001b[0m )\n",
      "File \u001b[1;32m~\\anaconda3\\Lib\\site-packages\\pandas\\core\\groupby\\ops.py:549\u001b[0m, in \u001b[0;36mWrappedCythonOp._call_cython_op\u001b[1;34m(self, values, min_count, ngroups, comp_ids, mask, result_mask, **kwargs)\u001b[0m\n\u001b[0;32m    547\u001b[0m counts \u001b[38;5;241m=\u001b[39m np\u001b[38;5;241m.\u001b[39mzeros(ngroups, dtype\u001b[38;5;241m=\u001b[39mnp\u001b[38;5;241m.\u001b[39mint64)\n\u001b[0;32m    548\u001b[0m \u001b[38;5;28;01mif\u001b[39;00m \u001b[38;5;28mself\u001b[39m\u001b[38;5;241m.\u001b[39mhow \u001b[38;5;129;01min\u001b[39;00m [\u001b[38;5;124m\"\u001b[39m\u001b[38;5;124mmin\u001b[39m\u001b[38;5;124m\"\u001b[39m, \u001b[38;5;124m\"\u001b[39m\u001b[38;5;124mmax\u001b[39m\u001b[38;5;124m\"\u001b[39m, \u001b[38;5;124m\"\u001b[39m\u001b[38;5;124mmean\u001b[39m\u001b[38;5;124m\"\u001b[39m, \u001b[38;5;124m\"\u001b[39m\u001b[38;5;124mlast\u001b[39m\u001b[38;5;124m\"\u001b[39m, \u001b[38;5;124m\"\u001b[39m\u001b[38;5;124mfirst\u001b[39m\u001b[38;5;124m\"\u001b[39m, \u001b[38;5;124m\"\u001b[39m\u001b[38;5;124msum\u001b[39m\u001b[38;5;124m\"\u001b[39m]:\n\u001b[1;32m--> 549\u001b[0m     func(\n\u001b[0;32m    550\u001b[0m         out\u001b[38;5;241m=\u001b[39mresult,\n\u001b[0;32m    551\u001b[0m         counts\u001b[38;5;241m=\u001b[39mcounts,\n\u001b[0;32m    552\u001b[0m         values\u001b[38;5;241m=\u001b[39mvalues,\n\u001b[0;32m    553\u001b[0m         labels\u001b[38;5;241m=\u001b[39mcomp_ids,\n\u001b[0;32m    554\u001b[0m         min_count\u001b[38;5;241m=\u001b[39mmin_count,\n\u001b[0;32m    555\u001b[0m         mask\u001b[38;5;241m=\u001b[39mmask,\n\u001b[0;32m    556\u001b[0m         result_mask\u001b[38;5;241m=\u001b[39mresult_mask,\n\u001b[0;32m    557\u001b[0m         is_datetimelike\u001b[38;5;241m=\u001b[39mis_datetimelike,\n\u001b[0;32m    558\u001b[0m     )\n\u001b[0;32m    559\u001b[0m \u001b[38;5;28;01melif\u001b[39;00m \u001b[38;5;28mself\u001b[39m\u001b[38;5;241m.\u001b[39mhow \u001b[38;5;129;01min\u001b[39;00m [\u001b[38;5;124m\"\u001b[39m\u001b[38;5;124mvar\u001b[39m\u001b[38;5;124m\"\u001b[39m, \u001b[38;5;124m\"\u001b[39m\u001b[38;5;124mohlc\u001b[39m\u001b[38;5;124m\"\u001b[39m, \u001b[38;5;124m\"\u001b[39m\u001b[38;5;124mprod\u001b[39m\u001b[38;5;124m\"\u001b[39m, \u001b[38;5;124m\"\u001b[39m\u001b[38;5;124mmedian\u001b[39m\u001b[38;5;124m\"\u001b[39m]:\n\u001b[0;32m    560\u001b[0m     func(\n\u001b[0;32m    561\u001b[0m         result,\n\u001b[0;32m    562\u001b[0m         counts,\n\u001b[1;32m   (...)\u001b[0m\n\u001b[0;32m    568\u001b[0m         \u001b[38;5;241m*\u001b[39m\u001b[38;5;241m*\u001b[39mkwargs,\n\u001b[0;32m    569\u001b[0m     )\n",
      "File \u001b[1;32m~\\anaconda3\\Lib\\site-packages\\pandas\\_libs\\groupby.pyx:717\u001b[0m, in \u001b[0;36mpandas._libs.groupby.group_sum\u001b[1;34m()\u001b[0m\n",
      "\u001b[1;31mTypeError\u001b[0m: can only concatenate str (not \"int\") to str"
     ]
    }
   ],
   "source": [
    "#create a new dataframe for yearly mentions that groups mentions by year\n",
    "yearly_mentions = song.groupby('album_year').sum().reset_index()\n",
    "yearly_mentions['album_year'] = yearly_mentions['album_year'].astype(str)\n",
    "yearly_mentions"
   ]
  },
  {
   "cell_type": "code",
   "execution_count": null,
   "metadata": {},
   "outputs": [],
   "source": [
    "#plot the mentions of night over years\n",
    "plt.plot(yearly_mentions['album_year'], yearly_mentions['night'])\n",
    "plt.title(\"Night\")\n",
    "plt.show()"
   ]
  },
  {
   "cell_type": "code",
   "execution_count": null,
   "metadata": {},
   "outputs": [],
   "source": [
    "#plot the mentions of midnight over years\n",
    "plt.plot(yearly_mentions['album_year'], yearly_mentions['midnight'])\n",
    "plt.title(\"Midnight\")\n",
    "plt.show()"
   ]
  },
  {
   "cell_type": "code",
   "execution_count": null,
   "metadata": {},
   "outputs": [],
   "source": [
    "#plot the mentions of day over years\n",
    "plt.plot(yearly_mentions['album_year'], yearly_mentions['day'])\n",
    "plt.title(\"Day\")\n",
    "plt.show()"
   ]
  },
  {
   "cell_type": "code",
   "execution_count": null,
   "metadata": {},
   "outputs": [],
   "source": [
    "#plot the mentions of time over years\n",
    "plt.plot(yearly_mentions['album_year'], yearly_mentions['time'])\n",
    "plt.title(\"TIME\")\n",
    "plt.show()"
   ]
  },
  {
   "cell_type": "markdown",
   "metadata": {},
   "source": [
    "\n"
   ]
  },
  {
   "cell_type": "markdown",
   "metadata": {},
   "source": [
    "<i>\n",
    "\n",
    "It looks like there was a peak in her mentioning night around 2012. It seems like those mentions have become less prevalent over time, with an actual dip in 2019! We had expected midnight to appear more often around then, based on rumors that she plans everything 3 years out. How about others mentioned such as day and time?\n",
    "</i>"
   ]
  },
  {
   "cell_type": "markdown",
   "metadata": {},
   "source": [
    "### 7. What albums are the most night/day focused?\n",
    "Now that we have a table of counts, it's very easy to figure out which albums have the most mentions of day or night. But our DataFrame only has the years, not the album names. We need to add those back in.\n",
    "* Run the code that reinstates the album name for this dataframe.\n",
    "* Use `.sort_values()` to order the yearly_mentions table and find which year has the most mentions of night.\n",
    "* Sort the day column as well."
   ]
  },
  {
   "cell_type": "code",
   "execution_count": null,
   "metadata": {},
   "outputs": [],
   "source": [
    "#reinstate the album name\n",
    "#read the album_year_name.csv\n",
    "year_name = pd.read_excel('albumR2.xlsx')"
   ]
  },
  {
   "cell_type": "code",
   "execution_count": null,
   "metadata": {},
   "outputs": [],
   "source": [
    "#sort both dataframes by year\n",
    "yearly_mentions.sort_values(by='album_year', ascending=True, inplace=True)\n",
    "year_name.sort_values(by='album_year', ascending=True, inplace=True)"
   ]
  },
  {
   "cell_type": "code",
   "execution_count": null,
   "metadata": {},
   "outputs": [],
   "source": [
    "#add the new column for album name\n",
    "yearly_mentions['album_name'] = year_name['album_name']"
   ]
  },
  {
   "cell_type": "code",
   "execution_count": null,
   "metadata": {},
   "outputs": [],
   "source": [
    "#sort the lyrics by the night column to find the albums with the most night references\n",
    "yearly_mentions.sort_values(by='night', ascending=False)"
   ]
  },
  {
   "cell_type": "markdown",
   "metadata": {},
   "source": [
    "\n",
    "* Her most <b>\"nightly\" </b> album was reputation in 2012, whereas her least nightly album was also the one right before <b>Midnight</b>. Has she been saving all her night-related lyrics for the past 3 years?\n"
   ]
  },
  {
   "cell_type": "code",
   "execution_count": null,
   "metadata": {},
   "outputs": [],
   "source": [
    "#sort the lyrics by the day column to find the albums with the most day references\n",
    "yearly_mentions.sort_values(by='day', ascending=False)"
   ]
  },
  {
   "cell_type": "markdown",
   "metadata": {},
   "source": [
    "It seems like her older work focused on day much more than her more recent. There was a period of time (2008-2012) when she was really focused on day, but it seems to have become less central to her work more recently. "
   ]
  },
  {
   "cell_type": "markdown",
   "metadata": {},
   "source": [
    "### 8. Compare day to night mentions\n",
    "* Create another line chart with both the night mentions and the day mentions"
   ]
  },
  {
   "cell_type": "code",
   "execution_count": null,
   "metadata": {},
   "outputs": [],
   "source": [
    "#create a plot with one line showing number of night,  references by year \n",
    "#and another line with the number of day and time references by year\n",
    "\n",
    "plt.plot(yearly_mentions['album_year'], yearly_mentions['night'], label = 'night')\n",
    "plt.plot(yearly_mentions['album_year'], yearly_mentions['day'], label = 'day')\n",
    "plt.plot(yearly_mentions['album_year'], yearly_mentions['time'], label = 'time')\n",
    "plt.legend()\n",
    "plt.show()"
   ]
  },
  {
   "cell_type": "markdown",
   "metadata": {},
   "source": [
    "\n",
    "Well this is interesting. We see a similar dip in referencing time around 2017, but a sharp increase in both 2019 and 2020 to reference day. \n"
   ]
  },
  {
   "cell_type": "markdown",
   "metadata": {},
   "source": [
    "### 9. Investigate position of day vs. night mentions within albums\n",
    "Maybe her references to time aren't always about the year that she released the album, but the ebb and flow of the album itself. Let's plot where, within each album, references to day and night occur.\n",
    "\n",
    "* Create a variable that indicates the position of a lyric within an album. Call this 'position'.\n",
    "* Create a new dataframe called positional_mentions that groups her mentions by album position, and takes the sum of the other columns. Reset the index on this DataFrame to make it easier to use with matplotlib.\n",
    "* Create a line chart in matplotlib showing the night and day mentions as a position within the album.\n",
    "\n",
    "*Remember that you can always print the head of the DataFrame to check your work*"
   ]
  },
  {
   "cell_type": "code",
   "execution_count": null,
   "metadata": {},
   "outputs": [],
   "source": [
    "#create a position variable that includes both the track number and line number\n",
    "song['position'] = song['track_n'] + (song['line']/1000)"
   ]
  },
  {
   "cell_type": "code",
   "execution_count": null,
   "metadata": {},
   "outputs": [],
   "source": [
    "#create a new DataFrame that is grouped by position\n",
    "positional_mentions = song.groupby('position').sum().reset_index()"
   ]
  },
  {
   "cell_type": "code",
   "execution_count": null,
   "metadata": {},
   "outputs": [],
   "source": [
    "#increase the size of the plot \n",
    "fig = plt.gcf()\n",
    "fig.set_size_inches(25,10)\n",
    "\n",
    "#create a plot with two lines to show frequency of day vs. night references by position in the album\n",
    "plt.plot(positional_mentions['position'], positional_mentions['night'], label = 'night')\n",
    "plt.plot(positional_mentions['position'], positional_mentions['day'], label = 'day')\n",
    "plt.legend()\n",
    "\n",
    "plt.show()"
   ]
  },
  {
   "cell_type": "markdown",
   "metadata": {},
   "source": [
    "Honestly not that much -- we can't see any strong trends here. Best to move on. "
   ]
  },
  {
   "cell_type": "markdown",
   "metadata": {},
   "source": [
    "# Task Group 3"
   ]
  },
  {
   "cell_type": "markdown",
   "metadata": {},
   "source": [
    "### 10. Tokenize the Lyrics\n",
    "It's great to know how much she has focused on day and night, but we would also like to do a little more sophisticated analysis. Before we can work with our cleaned lyrics, we will have to tokenize them. Tokenization is a special way of breaking up words that is a little more nuanced than just using white space. The output is a list of words that we can then perform text analysis on.\n",
    "\n",
    "We will use the `word_tokenize` function from NLTK (the Natural Language ToolKit), and apply it to every row in our DataFrame with a lambda expression.\n",
    "\n",
    "* Run the cell to tokenize the cleaned lyrics.\n",
    "* Inspect the first few rows of the lyrics DataFrame\n",
    "* Create a list of all the tokens in the lyrics_tok column into one list\n",
    "* Use the Counter function from the collections package to count the number of times each word appears\n",
    "* Sort the resulting dictionary\n"
   ]
  },
  {
   "cell_type": "code",
   "execution_count": null,
   "metadata": {},
   "outputs": [],
   "source": [
    "#run this cell to tokenize the words in the clean_lyric column\n",
    "song['lyrics_tok'] = song['clean_lyric_song'].str.split(' ')"
   ]
  },
  {
   "cell_type": "code",
   "execution_count": null,
   "metadata": {},
   "outputs": [],
   "source": [
    "#inspect the first few lines\n",
    "song.head()"
   ]
  },
  {
   "cell_type": "code",
   "execution_count": null,
   "metadata": {},
   "outputs": [],
   "source": [
    "#determine what words overall are the most frequently used words\n",
    "#create a list of all the words in the lyrics_tok column\n",
    "word_list = [word for list_ in song['lyrics_tok'] for word in list_]"
   ]
  },
  {
   "cell_type": "code",
   "execution_count": null,
   "metadata": {},
   "outputs": [],
   "source": [
    "word_list"
   ]
  },
  {
   "cell_type": "code",
   "execution_count": null,
   "metadata": {},
   "outputs": [],
   "source": [
    "#use the counter function to count the number of times each word appears\n",
    "word_frequency = collections.Counter(word_list)\n",
    "print(word_frequency)"
   ]
  },
  {
   "cell_type": "code",
   "execution_count": null,
   "metadata": {},
   "outputs": [],
   "source": [
    "#sort the word frequencies to find out the most common words she's used. \n",
    "word_frequency = sorted(word_frequency.items(), key=lambda x: x[1], reverse=True)"
   ]
  },
  {
   "cell_type": "code",
   "execution_count": null,
   "metadata": {},
   "outputs": [],
   "source": [
    "word_frequency"
   ]
  },
  {
   "cell_type": "markdown",
   "metadata": {},
   "source": [
    "* She mostly talks about you and then herself, while that's not surprising, it also tells us that she's mostly writing about relationships and her realtionships with others. \n"
   ]
  },
  {
   "cell_type": "markdown",
   "metadata": {},
   "source": [
    "### 11. Analyze Lyric Sentiment\n",
    "\n",
    "To better understand how she thinks and feels about day and night, we want to know which one she writes about more favorably. \n",
    "\n",
    "We are going to use the pre-trained sentiment classifier that comes with NLTK. It's it trained on tweets and therefore best for short text. It return 4 values: positive, negative, neutral, and compound. Compound will be of special interest to us. It is the normalized sum of positive and negative. \n",
    "\n",
    "* Run the sample sentiment analyzer cell to see how the SentimentIntensityAnalyzer works.\n",
    "* Apply the sia sentiment analyzer to the clean_lyric column of the DataFrame with a lambda expression\n",
    "* Run the cell that transforms the dictionary into columns of the DataFrame"
   ]
  },
  {
   "cell_type": "code",
   "execution_count": null,
   "metadata": {},
   "outputs": [],
   "source": [
    "#run this cell to add a package from NLTK for our sentiment analyzer.\n",
    "nltk.download('vader_lexicon')"
   ]
  },
  {
   "cell_type": "code",
   "execution_count": null,
   "metadata": {},
   "outputs": [],
   "source": [
    "#run this cell to see how the sentiment analyzer works\n",
    "sia = SentimentIntensityAnalyzer()\n",
    "sia.polarity_scores(\"I love Taylor Swift!\")"
   ]
  },
  {
   "cell_type": "code",
   "execution_count": null,
   "metadata": {},
   "outputs": [],
   "source": [
    "#run this cell to see how the sentiment analyzer works\n",
    "sia = SentimentIntensityAnalyzer()\n",
    "sia.polarity_scores(\"I love love love Taylor Swift!\")"
   ]
  },
  {
   "cell_type": "code",
   "execution_count": null,
   "metadata": {},
   "outputs": [],
   "source": [
    "#create a new column called polarity and apply the sia method to the clean_lyric column with a lambda expression\n",
    "song['polarity'] = song['clean_lyric_song'].apply(lambda x: sia.polarity_scores(x))\n",
    "song.head()"
   ]
  },
  {
   "cell_type": "code",
   "execution_count": null,
   "metadata": {},
   "outputs": [],
   "source": [
    "#run this cell to transform the polarity dictionary into columns of the DataFrame\n",
    "song[['neg', 'neu', 'pos', 'compound']] = song['polarity'].apply(pd.Series)"
   ]
  },
  {
   "cell_type": "code",
   "execution_count": null,
   "metadata": {},
   "outputs": [],
   "source": [
    "song.head()"
   ]
  },
  {
   "cell_type": "code",
   "execution_count": null,
   "metadata": {},
   "outputs": [],
   "source": [
    "song.drop('polarity', axis=1)"
   ]
  },
  {
   "cell_type": "markdown",
   "metadata": {},
   "source": [
    "### 12. Corpus Sentiment Analysis\n",
    "\n",
    "Now that we have sentiment for all of her lyrics, let's learn more about her overall sentiment, as well as how that has change throughout her career. \n",
    "* Use the pos, neg, and compound columns to calculate the overall sentiment of her entire collection, and print the result.\n",
    "* Use the groupby function and matplotlib to visualize the overall sentiment of her albums over time "
   ]
  },
  {
   "cell_type": "code",
   "execution_count": null,
   "metadata": {},
   "outputs": [],
   "source": [
    "#calculate overall sentiment for pos, neg, sentiment\n",
    "pos = sum(song['pos'])\n",
    "neg = sum(song['neg'])\n",
    "compound = sum(song['compound'])"
   ]
  },
  {
   "cell_type": "code",
   "execution_count": null,
   "metadata": {},
   "outputs": [],
   "source": [
    "#print the overall sentiments\n",
    "print(\"positive: \", pos)\n",
    "print(\"negative: \", neg)\n",
    "print(\"compound: \", compound)"
   ]
  },
  {
   "cell_type": "code",
   "execution_count": null,
   "metadata": {},
   "outputs": [],
   "source": [
    "#create a new DataFrame using the groupby method for the album_year\n",
    "yearly_sentiment = song.groupby('album_year').sum().reset_index()\n",
    "\n",
    "#visualize sentiment over time \n",
    "plt.plot(yearly_sentiment['album_year'], yearly_sentiment['compound'])\n",
    "plt.title (\"Sentiment over the years\")\n",
    "plt.show()"
   ]
  },
  {
   "cell_type": "markdown",
   "metadata": {},
   "source": [
    "### 13. Day or Night? Positive or Negative\n",
    "Finally the big reveal. Does Taylor Swift write more positively about day or night? \n",
    "* Create two DataFrames: one for all the lyrics that mention night and one for all the lyrics that mention day.\n",
    "* Check that each DataFrame has the right number of values with the `len()` function\n",
    "* Calculate the sentiment for both night and day using the compound value and print them."
   ]
  },
  {
   "cell_type": "code",
   "execution_count": null,
   "metadata": {},
   "outputs": [],
   "source": [
    "#create a DataFrame filtered for only night mentions\n",
    "night = song[song['night']==True]\n",
    "night"
   ]
  },
  {
   "cell_type": "code",
   "execution_count": null,
   "metadata": {},
   "outputs": [],
   "source": [
    "#create a DataFrame filtered for only day mentions\n",
    "day = song[song['day']==True]\n",
    "day"
   ]
  },
  {
   "cell_type": "code",
   "execution_count": null,
   "metadata": {},
   "outputs": [],
   "source": [
    "#print the length of the night and day DataFrames\n",
    "print(\"night: \",len(night))\n",
    "print(\"day: \",len(day))"
   ]
  },
  {
   "cell_type": "code",
   "execution_count": null,
   "metadata": {},
   "outputs": [],
   "source": [
    "#calculate the sentiment of each day and night DataFrame from the compound values\n",
    "night_sentiment = night['compound'].sum()\n",
    "day_sentiment = day['compound'].sum()"
   ]
  },
  {
   "cell_type": "code",
   "execution_count": null,
   "metadata": {},
   "outputs": [],
   "source": [
    "#print the results\n",
    "print(\"night sentiment: \", night_sentiment)\n",
    "print(\"day_sentiment: \", day_sentiment)"
   ]
  },
  {
   "cell_type": "markdown",
   "metadata": {},
   "source": [
    "She's still overall more positive in her sentiment about day than night! \n",
    "    \n",
    "You have the tools to explore if that sentiment has changed over time, or if her feelings towards night have grown more positive or negative over time. And of course, we would love to see your analysis of her new album, Midnight. Have her feelings changed?\n"
   ]
  },
  {
   "cell_type": "code",
   "execution_count": null,
   "metadata": {},
   "outputs": [],
   "source": []
  }
 ],
 "metadata": {
  "kernelspec": {
   "display_name": "Python 3 (ipykernel)",
   "language": "python",
   "name": "python3"
  },
  "language_info": {
   "codemirror_mode": {
    "name": "ipython",
    "version": 3
   },
   "file_extension": ".py",
   "mimetype": "text/x-python",
   "name": "python",
   "nbconvert_exporter": "python",
   "pygments_lexer": "ipython3",
   "version": "3.11.5"
  }
 },
 "nbformat": 4,
 "nbformat_minor": 4
}
